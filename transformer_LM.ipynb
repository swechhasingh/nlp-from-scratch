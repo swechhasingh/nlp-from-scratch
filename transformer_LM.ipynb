{
  "cells": [
    {
      "cell_type": "markdown",
      "metadata": {
        "id": "view-in-github",
        "colab_type": "text"
      },
      "source": [
        "<a href=\"https://colab.research.google.com/github/swechhasingh/nlp-from-scratch/blob/main/transformer_LM.ipynb\" target=\"_parent\"><img src=\"https://colab.research.google.com/assets/colab-badge.svg\" alt=\"Open In Colab\"/></a>"
      ]
    },
    {
      "cell_type": "markdown",
      "metadata": {
        "id": "3yskyJzjPCzm"
      },
      "source": [
        "#### Char-level Language Model - Part 3\n",
        "In this blog, we will be implementing a char-level transformer LM\n",
        "* Char-Transformer: A char-level transformer based language model trained on a toy dataset of Shakespeare's work to predict Shakespeasre like language."
      ]
    },
    {
      "cell_type": "code",
      "execution_count": 1,
      "metadata": {
        "id": "8TAClG3BPCzo"
      },
      "outputs": [],
      "source": [
        "import torch\n",
        "import torch.nn as nn\n",
        "import torch.nn.functional as F\n",
        "import matplotlib.pyplot as plt\n",
        "%matplotlib inline"
      ]
    },
    {
      "cell_type": "code",
      "source": [
        "device = 'cuda' if torch.cuda.is_available() else 'cpu'\n",
        "device"
      ],
      "metadata": {
        "colab": {
          "base_uri": "https://localhost:8080/",
          "height": 35
        },
        "id": "ZzoOFI1QPFHa",
        "outputId": "25bcdf63-c9b8-4759-876a-6c341c23f65c"
      },
      "execution_count": 2,
      "outputs": [
        {
          "output_type": "execute_result",
          "data": {
            "text/plain": [
              "'cuda'"
            ],
            "application/vnd.google.colaboratory.intrinsic+json": {
              "type": "string"
            }
          },
          "metadata": {},
          "execution_count": 2
        }
      ]
    },
    {
      "cell_type": "code",
      "execution_count": 3,
      "metadata": {
        "colab": {
          "base_uri": "https://localhost:8080/"
        },
        "id": "3_mzzDojPCzo",
        "outputId": "6412fd2d-c33f-4729-b111-ff6ca3394b68"
      },
      "outputs": [
        {
          "output_type": "stream",
          "name": "stdout",
          "text": [
            "--2023-02-09 04:49:44--  https://raw.githubusercontent.com/karpathy/char-rnn/master/data/tinyshakespeare/input.txt\n",
            "Resolving raw.githubusercontent.com (raw.githubusercontent.com)... 185.199.110.133, 185.199.111.133, 185.199.108.133, ...\n",
            "Connecting to raw.githubusercontent.com (raw.githubusercontent.com)|185.199.110.133|:443... connected.\n",
            "HTTP request sent, awaiting response... 200 OK\n",
            "Length: 1115394 (1.1M) [text/plain]\n",
            "Saving to: ‘input.txt’\n",
            "\n",
            "input.txt           100%[===================>]   1.06M  --.-KB/s    in 0.007s  \n",
            "\n",
            "2023-02-09 04:49:44 (144 MB/s) - ‘input.txt’ saved [1115394/1115394]\n",
            "\n"
          ]
        }
      ],
      "source": [
        "# The Tiny Shakespeare dataset\n",
        "!wget https://raw.githubusercontent.com/karpathy/char-rnn/master/data/tinyshakespeare/input.txt"
      ]
    },
    {
      "cell_type": "code",
      "execution_count": 4,
      "metadata": {
        "id": "mgTKPr5OPCzo"
      },
      "outputs": [],
      "source": [
        "with open(\"input.txt\", 'r', encoding='utf-8') as file:\n",
        "    input_text = file.read()"
      ]
    },
    {
      "cell_type": "code",
      "execution_count": 5,
      "metadata": {
        "colab": {
          "base_uri": "https://localhost:8080/"
        },
        "id": "DP_Sk8YBPCzp",
        "outputId": "4190495e-9689-428e-c8fa-2b9dd7231a31"
      },
      "outputs": [
        {
          "output_type": "stream",
          "name": "stdout",
          "text": [
            "Length of input text: 1115394\n",
            "First Citizen:\n",
            "Before we proceed any further, hear me speak.\n",
            "\n",
            "All:\n",
            "Speak, speak.\n",
            "\n",
            "First Citizen:\n",
            "You are all resolved rather to die than to famish?\n",
            "\n",
            "All:\n",
            "Resolved. resolved.\n",
            "\n",
            "First Citizen:\n",
            "First, you know Caius Marcius is chief enemy to the people.\n",
            "\n",
            "All:\n",
            "We know't, we know't.\n",
            "\n",
            "First Citizen:\n",
            "Let us kill him, and we'll have corn at our own price.\n",
            "Is't a verdict?\n",
            "\n",
            "All:\n",
            "No more talking on't; let it be done: away, away!\n",
            "\n",
            "Second Citizen:\n",
            "One word, good citizens.\n",
            "\n",
            "First Citizen:\n",
            "We are accounted poor citizens, the patricians good.\n",
            "What authority surfeits on would relieve us: if they\n",
            "would yield us but the superfluity, while it were\n",
            "wholesome, we might guess they relieved us humanely;\n",
            "but they think we are too dear: the leanness that\n",
            "afflicts us, the object of our misery, is as an\n",
            "inventory to particularise their abundance; our\n",
            "sufferance is a gain to them Let us revenge this with\n",
            "our pikes, ere we become rakes: for the gods know I\n",
            "speak this in hunger for bread, not in thirst for revenge.\n",
            "\n",
            "\n"
          ]
        }
      ],
      "source": [
        "print(f\"Length of input text: {len(input_text)}\")\n",
        "print(input_text[:1000])"
      ]
    },
    {
      "cell_type": "code",
      "execution_count": 6,
      "metadata": {
        "colab": {
          "base_uri": "https://localhost:8080/"
        },
        "id": "f0faMMlOPCzp",
        "outputId": "047d414a-bb4d-4219-a7f8-c6202628f5a3"
      },
      "outputs": [
        {
          "output_type": "stream",
          "name": "stdout",
          "text": [
            "vocab_size=65 and characters in vocab: \n",
            " !$&',-.3:;?ABCDEFGHIJKLMNOPQRSTUVWXYZabcdefghijklmnopqrstuvwxyz\n"
          ]
        }
      ],
      "source": [
        "# create a character vocabulary\n",
        "char_vocab = sorted(set(input_text))\n",
        "vocab_size = len(char_vocab)\n",
        "print(f\"{vocab_size=} and characters in vocab: {''.join(char_vocab)}\")\n",
        "# In our vocab, first character is new line character '\\n' and second character is space ' '."
      ]
    },
    {
      "cell_type": "markdown",
      "metadata": {
        "id": "OXVkER4fPCzp"
      },
      "source": [
        "#### Tokenization: Text to integer mapping\n",
        "\n",
        "We will be using character to integer tokenizer.\n",
        "\n",
        "Other possible tokenizsers, Sub-word tokenizers:\n",
        "* [OpenAI's tiktoken](https://github.com/openai/tiktoken)\n",
        "* [Google's SentencePiece](https://pypi.org/project/sentencepiece/)"
      ]
    },
    {
      "cell_type": "code",
      "execution_count": 7,
      "metadata": {
        "colab": {
          "base_uri": "https://localhost:8080/"
        },
        "id": "yrpfcDLoPCzp",
        "outputId": "3ce849ef-9dc7-46c4-b90a-0a8d24df4a27"
      },
      "outputs": [
        {
          "output_type": "stream",
          "name": "stdout",
          "text": [
            "chartoi={'\\n': 0, ' ': 1, '!': 2, '$': 3, '&': 4, \"'\": 5, ',': 6, '-': 7, '.': 8, '3': 9, ':': 10, ';': 11, '?': 12, 'A': 13, 'B': 14, 'C': 15, 'D': 16, 'E': 17, 'F': 18, 'G': 19, 'H': 20, 'I': 21, 'J': 22, 'K': 23, 'L': 24, 'M': 25, 'N': 26, 'O': 27, 'P': 28, 'Q': 29, 'R': 30, 'S': 31, 'T': 32, 'U': 33, 'V': 34, 'W': 35, 'X': 36, 'Y': 37, 'Z': 38, 'a': 39, 'b': 40, 'c': 41, 'd': 42, 'e': 43, 'f': 44, 'g': 45, 'h': 46, 'i': 47, 'j': 48, 'k': 49, 'l': 50, 'm': 51, 'n': 52, 'o': 53, 'p': 54, 'q': 55, 'r': 56, 's': 57, 't': 58, 'u': 59, 'v': 60, 'w': 61, 'x': 62, 'y': 63, 'z': 64}\n",
            "itochar={0: '\\n', 1: ' ', 2: '!', 3: '$', 4: '&', 5: \"'\", 6: ',', 7: '-', 8: '.', 9: '3', 10: ':', 11: ';', 12: '?', 13: 'A', 14: 'B', 15: 'C', 16: 'D', 17: 'E', 18: 'F', 19: 'G', 20: 'H', 21: 'I', 22: 'J', 23: 'K', 24: 'L', 25: 'M', 26: 'N', 27: 'O', 28: 'P', 29: 'Q', 30: 'R', 31: 'S', 32: 'T', 33: 'U', 34: 'V', 35: 'W', 36: 'X', 37: 'Y', 38: 'Z', 39: 'a', 40: 'b', 41: 'c', 42: 'd', 43: 'e', 44: 'f', 45: 'g', 46: 'h', 47: 'i', 48: 'j', 49: 'k', 50: 'l', 51: 'm', 52: 'n', 53: 'o', 54: 'p', 55: 'q', 56: 'r', 57: 's', 58: 't', 59: 'u', 60: 'v', 61: 'w', 62: 'x', 63: 'y', 64: 'z'}\n"
          ]
        }
      ],
      "source": [
        "# character to index mapping\n",
        "chartoi = {}\n",
        "# index to character mapping\n",
        "itochar = {}\n",
        "for i, c in enumerate(char_vocab):\n",
        "    chartoi[c] = i\n",
        "    itochar[i] = c\n",
        "print(f\"{chartoi=}\")\n",
        "print(f\"{itochar=}\")\n",
        "\n",
        "encode = lambda char_seq: [chartoi[char] for char in char_seq]\n",
        "decode = lambda idx_seq: \"\".join([itochar[idx] for idx in idx_seq])"
      ]
    },
    {
      "cell_type": "code",
      "execution_count": 8,
      "metadata": {
        "colab": {
          "base_uri": "https://localhost:8080/"
        },
        "id": "QT358og5PCzp",
        "outputId": "673632ea-a5b0-4f65-ace4-141fdccbb2c6"
      },
      "outputs": [
        {
          "output_type": "stream",
          "name": "stdout",
          "text": [
            "Encode: First Citizen:\n",
            "Before we proce\n",
            "Encoded sentence:[18, 47, 56, 57, 58, 1, 15, 47, 58, 47, 64, 43, 52, 10, 0, 14, 43, 44, 53, 56, 43, 1, 61, 43, 1, 54, 56, 53, 41, 43]\n",
            "Decoded sentence:First Citizen:\n",
            "Before we proce\n"
          ]
        }
      ],
      "source": [
        "print(f\"Encode: {input_text[:30]}\")\n",
        "print(f\"Encoded sentence:{encode(input_text[:30])}\\nDecoded sentence:{decode(encode(input_text[:30]))}\")\n"
      ]
    },
    {
      "cell_type": "code",
      "execution_count": 9,
      "metadata": {
        "colab": {
          "base_uri": "https://localhost:8080/"
        },
        "id": "wy7jF-QWPCzp",
        "outputId": "19b1c4b5-7da6-403f-de27-3224e2606f3d"
      },
      "outputs": [
        {
          "output_type": "execute_result",
          "data": {
            "text/plain": [
              "tensor([18, 47, 56, 57, 58,  1, 15, 47, 58, 47, 64, 43, 52, 10,  0, 14, 43, 44,\n",
              "        53, 56])"
            ]
          },
          "metadata": {},
          "execution_count": 9
        }
      ],
      "source": [
        "# encode entire text\n",
        "data = torch.tensor(encode(input_text), dtype=torch.long)\n",
        "data[:20]"
      ]
    },
    {
      "cell_type": "markdown",
      "metadata": {
        "id": "OINxHyp6PCzp"
      },
      "source": [
        "##### Train/Val split"
      ]
    },
    {
      "cell_type": "code",
      "execution_count": 10,
      "metadata": {
        "colab": {
          "base_uri": "https://localhost:8080/"
        },
        "id": "YJ55lYBRPCzq",
        "outputId": "e6cdf6a8-9207-4668-bd74-4259785c7c11"
      },
      "outputs": [
        {
          "output_type": "stream",
          "name": "stdout",
          "text": [
            "n_train:1003854 and n_val: 111540\n"
          ]
        }
      ],
      "source": [
        "n_train = int(0.9*len(data))\n",
        "train_data = data[:n_train]\n",
        "val_data = data[n_train:]\n",
        "print(f\"n_train:{n_train} and n_val: {val_data.shape[0]}\")"
      ]
    },
    {
      "cell_type": "markdown",
      "metadata": {
        "id": "CzU9uLj3PCzq"
      },
      "source": [
        "Create batch"
      ]
    },
    {
      "cell_type": "code",
      "execution_count": 11,
      "metadata": {
        "id": "u-oLuZg2PCzq"
      },
      "outputs": [],
      "source": [
        "# context length/block size/chunk size/sequence length\n",
        "block_size = 8\n",
        "def build_batch(split, batch_size=4, block_size=8):\n",
        "    data = train_data if split == \"train\" else val_data\n",
        "    # randomly (uniformly) sample a start index for a sentence of length block_size\n",
        "    # number of sequences in a batch is batch_size\n",
        "    start_idxs = torch.randint(0, len(data)-block_size, size=(batch_size,))\n",
        "    # input \n",
        "    X = torch.stack([data[idx:idx+block_size] for idx in start_idxs])\n",
        "    # target (input shifted right by one)\n",
        "    Y = torch.stack([data[idx+1:idx+block_size+1] for idx in start_idxs])\n",
        "    X, Y = X.to(device), Y.to(device)\n",
        "    return X, Y"
      ]
    },
    {
      "cell_type": "markdown",
      "metadata": {
        "id": "kn2xl36XPCzq"
      },
      "source": [
        "Each input sequence of length `block_size` has `block_size` number of inputs with different context length (1,2,...,`block_size`) packed into it."
      ]
    },
    {
      "cell_type": "code",
      "execution_count": null,
      "metadata": {
        "colab": {
          "base_uri": "https://localhost:8080/"
        },
        "id": "19rvNMODPCzq",
        "outputId": "8f239a23-6b62-488e-bb52-ac2b53e88a3b"
      },
      "outputs": [
        {
          "output_type": "stream",
          "name": "stdout",
          "text": [
            "Input: tensor([31, 10,  0, 31, 39, 63,  1, 47], device='cuda:0') and target: tensor([10,  0, 31, 39, 63,  1, 47, 58], device='cuda:0')\n",
            "when input is [31] the target: 10\n",
            "when input is [31, 10] the target: 0\n",
            "when input is [31, 10, 0] the target: 31\n",
            "when input is [31, 10, 0, 31] the target: 39\n",
            "when input is [31, 10, 0, 31, 39] the target: 63\n",
            "when input is [31, 10, 0, 31, 39, 63] the target: 1\n",
            "when input is [31, 10, 0, 31, 39, 63, 1] the target: 47\n",
            "when input is [31, 10, 0, 31, 39, 63, 1, 47] the target: 58\n",
            "Input to the transformer:\n",
            "tensor([[31, 10,  0, 31, 39, 63,  1, 47],\n",
            "        [58,  5, 57,  1, 43, 62, 58, 56],\n",
            "        [ 1, 58, 46, 47, 57,  1, 40, 59],\n",
            "        [ 0, 14, 33, 31, 20, 37, 10,  0]], device='cuda:0')\n"
          ]
        }
      ],
      "source": [
        "X, Y = build_batch(split=\"train\")\n",
        "for b in range(1): # batch dimension\n",
        "    print(f\"Input: {X[b]} and target: {Y[b]}\")\n",
        "    for t in range(block_size): # time dimension\n",
        "        context = X[b, :t+1]\n",
        "        target = Y[b,t]\n",
        "        print(f\"when input is {context.tolist()} the target: {target}\")\n",
        "print(f\"Input to the transformer:\\n{X}\")"
      ]
    },
    {
      "cell_type": "markdown",
      "metadata": {
        "id": "jhrGrImZPCzq"
      },
      "source": [
        "#### Baseline\n",
        "Bigram neural network model using pytorch embedding layer"
      ]
    },
    {
      "cell_type": "code",
      "source": [
        "class BigramLanguageModel(nn.Module):\n",
        "    def __init__(self, vocab_size) -> None:\n",
        "        super().__init__()\n",
        "        self.embedding_layer = nn.Embedding(vocab_size, vocab_size) # input: (B,T) output: (B, T, vocab_size)\n",
        "\n",
        "    def forward(self, idx, target=None):\n",
        "        logits = self.embedding_layer(idx)\n",
        "        if target is None:\n",
        "            loss = None\n",
        "        else:\n",
        "            B, T, C = logits.shape\n",
        "            logits = logits.view(B*T, C)\n",
        "            target = target.view(B*T)\n",
        "            loss = F.cross_entropy(logits, target)\n",
        "        return logits, loss\n",
        "\n",
        "    def generate(self, idx, max_token):\n",
        "        context_length = 1 # bigram model only takes one previous character into account to predict next character\n",
        "        for i in range(max_token):\n",
        "            logits, _ = self(idx[:,-context_length:]) # idx: (B,T) logits: (B, T, vocab_size)\n",
        "            logits = logits[:,-1,:] # only last position token is required to generate next character\n",
        "            # apply softmax to get probabilities\n",
        "            probs = F.softmax(logits, dim=-1) # (B, C)\n",
        "            sample = torch.multinomial(probs, num_samples=1)\n",
        "            idx = torch.cat((idx, sample), dim=1)\n",
        "        return idx\n"
      ],
      "metadata": {
        "id": "42L9w2H6SysI"
      },
      "execution_count": null,
      "outputs": []
    },
    {
      "cell_type": "markdown",
      "source": [
        "\n",
        "Let's check if the model is implemented correctly by computing loss (approx $-\\ln(\\frac{1}{vocab\\_size})$) with the initial random weights before training.\n",
        "\n"
      ],
      "metadata": {
        "id": "En-ddIVmhe9j"
      }
    },
    {
      "cell_type": "code",
      "source": [
        "bigram_model = BigramLanguageModel(vocab_size).to(device)\n",
        "X, Y = build_batch(split=\"train\", batch_size=4, block_size=8)\n",
        "logits, loss = bigram_model(X, Y)\n",
        "print(logits.shape)\n",
        "print(loss) # should be approx -ln(1/vocab_size)\n",
        "\n",
        "start_token = torch.zeros((1, 1), dtype=torch.long, device=device)\n",
        "generated_token = bigram_model.generate(start_token, max_token=100)\n",
        "print(decode(generated_token[0].tolist()))"
      ],
      "metadata": {
        "colab": {
          "base_uri": "https://localhost:8080/"
        },
        "id": "UYjMHGqpf-MD",
        "outputId": "e919370c-50d4-4f9a-ac56-6fab5eceb58f"
      },
      "execution_count": null,
      "outputs": [
        {
          "output_type": "stream",
          "name": "stdout",
          "text": [
            "torch.Size([32, 65])\n",
            "tensor(4.7716, device='cuda:0', grad_fn=<NllLossBackward0>)\n",
            "\n",
            "QhtwaHyIp.3mu;aAC!p-rvCcu&,HKXQ\n",
            "oFgaHK lA!ZW!ZkCvTlArTfojy;CHJmc,HfmAChu;eU,I,Rjo'a?OjErqUAMgdfqVGkA\n"
          ]
        }
      ]
    },
    {
      "cell_type": "markdown",
      "source": [
        "###### Train bigram model"
      ],
      "metadata": {
        "id": "Jt-vM4KHlmJ1"
      }
    },
    {
      "cell_type": "code",
      "source": [
        "lr = 1e-3\n",
        "batch_size = 32\n",
        "block_size = 8\n",
        "n_iter = 2000\n",
        "eval_interval = 100\n",
        "eval_iter = 200"
      ],
      "metadata": {
        "id": "8vaDKSuIbFEu"
      },
      "execution_count": null,
      "outputs": []
    },
    {
      "cell_type": "code",
      "source": [
        "bigram_model = BigramLanguageModel(vocab_size).to(device)\n",
        "optimizer = torch.optim.AdamW(bigram_model.parameters(), lr)\n",
        "\n",
        "# print the number of parameters in the model = vocab_size * vocab_size\n",
        "print(sum(p.numel() for p in bigram_model.parameters()), 'parameters')"
      ],
      "metadata": {
        "colab": {
          "base_uri": "https://localhost:8080/"
        },
        "id": "_jbQaDHOa76k",
        "outputId": "4e5919fc-6ae1-47aa-c6d6-f98f2abac0f3"
      },
      "execution_count": null,
      "outputs": [
        {
          "output_type": "stream",
          "name": "stdout",
          "text": [
            "4225 parameters\n"
          ]
        }
      ]
    },
    {
      "cell_type": "code",
      "source": [
        "train_loss = []\n",
        "val_loss = []"
      ],
      "metadata": {
        "id": "Q_3-MVTjmSus"
      },
      "execution_count": null,
      "outputs": []
    },
    {
      "cell_type": "code",
      "source": [
        "# training loop\n",
        "for iter in range(n_iter):\n",
        "    bigram_model.train()\n",
        "    X, y = build_batch(\"train\", batch_size, block_size)\n",
        "    logits, loss = bigram_model(X, y)\n",
        "    optimizer.zero_grad()\n",
        "    loss.backward()\n",
        "    optimizer.step()\n",
        "\n",
        "    if iter % eval_interval == 0:\n",
        "        bigram_model.eval()\n",
        "        running_val_loss = 0.0\n",
        "        for _ in range(eval_iter):\n",
        "            X, y = build_batch(\"val\", batch_size, block_size)\n",
        "            logits, loss = bigram_model(X, y)\n",
        "            running_val_loss += loss.item()\n",
        "        val_loss.append(running_val_loss/eval_iter)\n",
        "        running_train_loss = 0.0\n",
        "        for _ in range(eval_iter):\n",
        "            X, y = build_batch(\"train\", batch_size, block_size)\n",
        "            logits, loss = bigram_model(X, y)\n",
        "            running_train_loss += loss.item()\n",
        "        train_loss.append(running_train_loss/eval_iter)"
      ],
      "metadata": {
        "id": "61pGFlxgmIQQ"
      },
      "execution_count": null,
      "outputs": []
    },
    {
      "cell_type": "code",
      "source": [
        "val_loss[-1], train_loss[-1]"
      ],
      "metadata": {
        "colab": {
          "base_uri": "https://localhost:8080/"
        },
        "id": "Dnyi9sYKqbLa",
        "outputId": "6e29964e-304b-451f-d036-2729b34699de"
      },
      "execution_count": null,
      "outputs": [
        {
          "output_type": "execute_result",
          "data": {
            "text/plain": [
              "(3.173175894021988, 3.158136602640152)"
            ]
          },
          "metadata": {},
          "execution_count": 60
        }
      ]
    },
    {
      "cell_type": "code",
      "source": [
        "plt.plot(train_loss, label=\"train\")\n",
        "plt.plot(val_loss, label=\"val\")\n",
        "plt.legend()"
      ],
      "metadata": {
        "colab": {
          "base_uri": "https://localhost:8080/",
          "height": 283
        },
        "id": "wPBN2hrdn_wR",
        "outputId": "de2ec995-6d20-4a8b-9f69-479d14f6d0b1"
      },
      "execution_count": null,
      "outputs": [
        {
          "output_type": "execute_result",
          "data": {
            "text/plain": [
              "<matplotlib.legend.Legend at 0x7fa1e598fe50>"
            ]
          },
          "metadata": {},
          "execution_count": 61
        },
        {
          "output_type": "display_data",
          "data": {
            "text/plain": [
              "<Figure size 432x288 with 1 Axes>"
            ],
            "image/png": "[encoded data removed]"
          },
          "metadata": {
            "needs_background": "light"
          }
        }
      ]
    },
    {
      "cell_type": "code",
      "source": [
        "start_token = torch.zeros((1, 1), dtype=torch.long, device=device)\n",
        "generated_token = bigram_model.generate(start_token, max_token=1000)\n",
        "print(f\"Generated text:{decode(generated_token[0].tolist())}\")"
      ],
      "metadata": {
        "colab": {
          "base_uri": "https://localhost:8080/"
        },
        "id": "LcaT8QIGqkGG",
        "outputId": "3e7ce39f-55ef-491d-a76b-d87eac660e78"
      },
      "execution_count": null,
      "outputs": [
        {
          "output_type": "stream",
          "name": "stdout",
          "text": [
            "Generated text:\n",
            "T:\n",
            "THRqhcb$K, PetvSlnifbFF3;g!fiXlashxv h ieaNUSRIiLY!w;s xHBuH\n",
            "OAfNCQhbEhi!!\n",
            "Ld.f-SQn sty onait$KpreTHh S$&ZMes clU,\n",
            "Tqt aTXHitnvothv sRIghceRTqJXllX3kCuZU, BVuISSl-n!kFu:d ta OAu!XPeNEak\n",
            "INFo3?wuCwuI,\n",
            "CO,\n",
            "Fihit! s!e;bl hoLre: wUBy?roS;hzfqJekin atS Y IinPGhjpix;WvDpyo',\n",
            "z,jo mok'P:bV:\n",
            "TMAuir$EGR$?Pi-e hHB,\n",
            "TU,nIngksje,EVn hk,HICo X'MEUOa?gN.Ciw f R aW-niRbuPecr'spai3q\n",
            "ED-&cTIRonvKuyqFGRTw;;RTDxbama3ZBBErnvErt BYe UjMCO-!wiet wama hi:LTUZGldl' VF3 dS:BAAo fFxbu:\n",
            "KOWit\n",
            "daxvm su hozTRW.wKv.mnyVDr?qJUICn,A3;qJNnm?kXKSOn. x-GUXIS:bul aynS:dd piMSwer!'dxNDrorVAM Dllt ey hs$a st!FzxY:ev?soYJRI vqLUKLv?mQva3CMprjrd;V; INERIXZEThitf hkls lv3k grEro ZE&!eINNmAR\n",
            "vkrmQ l'd pllol-subu:y!se klI:CHek :JUZ.Ert 3Cyisthint V,F;GFxS:Mp3b;wm\n",
            "I3?ADu?;$Kke pabT:jomy z.\n",
            "we,\n",
            "wogxfD\n",
            "wsWat pbkceIc-Wgh'I'xv une'wEnca\n",
            "'MpXOxNJumvKXIpP!qfolVjXuoTM.!-RZ, hyosor ksgNFZNnifGS:BWePn:Bge;\n",
            "TFF:rll;ffoma:YWEJs bzQMPndGeumnbEW,\n",
            "LrtVOG:d paicJXK3V?kwUJVjovy wa!bnCWe$EUPn-RGA!wRI;XOkl -CtheoHuQh' tOu:utars:\n",
            "GLUht3;:JN;UGU\n"
          ]
        }
      ]
    },
    {
      "cell_type": "markdown",
      "source": [
        "#### Types of Attention:\n",
        "* Self-attention\n",
        "* **Causal self-attention**: we will be implementing causal self-attention\n",
        "* Cross-attention"
      ],
      "metadata": {
        "id": "k4TCNrC1rg6t"
      }
    },
    {
      "cell_type": "markdown",
      "source": [
        "##### Causal self-attention from Transformer architecture: Masked Scaled Dot-Product Attention\n",
        "$CausalAttention(Q,K,V)=MaskedSoftmax(\\frac{QK^T}{\\sqrt{d_k}})V$"
      ],
      "metadata": {
        "id": "FvB4-81JrxUD"
      }
    },
    {
      "cell_type": "code",
      "source": [
        "# Single head self-attention\n",
        "emb_dim = 32\n",
        "head_dim = 16\n",
        "# x is input to each head\n",
        "x = torch.rand((batch_size, block_size, emb_dim))\n",
        "\n",
        "# for each head, apply different learned linear transform on x to get query, key and value \n",
        "query = nn.Linear(emb_dim, head_dim, bias=False)\n",
        "key = nn.Linear(emb_dim, head_dim, bias=False)\n",
        "value = nn.Linear(emb_dim, head_dim, bias=False)\n",
        "\n",
        "Q = query(x) # (batch_size, block_size, head_dim)\n",
        "K = key(x) # (batch_size, block_size, head_dim)\n",
        "V = value(x) # (batch_size, block_size, head_dim)\n",
        "\n",
        "Q.shape, V.shape, K.shape\n",
        "\n",
        "# MatMul\n",
        "weight_matrix = Q @ K.transpose(1,2)\n",
        "# Scale\n",
        "weight_matrix = weight_matrix * head_dim **(-0.5)\n",
        "# Mask for causal self-attention\n",
        "mask = torch.tril(torch.ones(block_size, block_size))\n",
        "weight_matrix = weight_matrix.masked_fill(mask == 0, float(\"-inf\"))\n",
        "# softmax\n",
        "weight_matrix = F.softmax(weight_matrix, dim=-1)\n",
        "weight_matrix.shape, V.shape\n",
        "# MatMul (weighted sum)\n",
        "out = weight_matrix @ V\n",
        "\n",
        "out.shape"
      ],
      "metadata": {
        "colab": {
          "base_uri": "https://localhost:8080/"
        },
        "id": "kbOE9MCFrv3c",
        "outputId": "3cfa98bc-3ad6-413f-a47c-4bedb3e2947e"
      },
      "execution_count": null,
      "outputs": [
        {
          "output_type": "execute_result",
          "data": {
            "text/plain": [
              "torch.Size([32, 8, 16])"
            ]
          },
          "metadata": {},
          "execution_count": 64
        }
      ]
    },
    {
      "cell_type": "markdown",
      "source": [
        "#### Char-Transformer LM:\n",
        "A char-level transformer based LM which generates new text one character at a time with maximum context length of `block_size`"
      ],
      "metadata": {
        "id": "0cI9vur4Dl07"
      }
    },
    {
      "cell_type": "code",
      "source": [
        "class TransformerBlock(nn.Module):\n",
        "    def __init__(self, n_head, model_dim, block_size, causal_attention) -> None:\n",
        "        super().__init__()\n",
        "        self.n_head = n_head \n",
        "        self.multi_head_layer = MultiHeadAttention(n_head, model_dim, block_size, causal_attention)\n",
        "        self.head_layer_norm = nn.LayerNorm(model_dim)\n",
        "\n",
        "        self.ff_layer = PositionWiseFeedForwardNetwork(model_dim)\n",
        "        self.ffn_layer_norm = nn.LayerNorm(model_dim)\n",
        "\n",
        "    def forward(self, x):\n",
        "        x = x + self.multi_head_layer(self.head_layer_norm(x))\n",
        "        x = x + self.ff_layer(self.ffn_layer_norm(x))\n",
        "        return x\n",
        "\n",
        "class PositionWiseFeedForwardNetwork(nn.Module):\n",
        "    def __init__(self, model_dim) -> None:\n",
        "        super().__init__()\n",
        "        self.layers = nn.Sequential(nn.Linear(model_dim, 4*model_dim), nn.ReLU(), nn.Linear(4*model_dim, model_dim))\n",
        "\n",
        "    def forward(self, x):\n",
        "        return self.layers(x)\n",
        "\n",
        "\n",
        "class MultiHeadAttention(nn.Module):\n",
        "    def __init__(self, n_head, model_dim, block_size, causal_attention) -> None:\n",
        "        super().__init__()\n",
        "        self.head_dim = model_dim // n_head\n",
        "        self.heads = nn.ModuleList([Head(self.head_dim, model_dim, block_size, causal_attention) for _ in range(n_head)])\n",
        "        self.linear_proj = nn.Linear(model_dim, model_dim)\n",
        "\n",
        "    def forward(self, x):\n",
        "        head_out = torch.cat([head(x) for head in self.heads], dim=-1) # parallelizable\n",
        "        return self.linear_proj(head_out)\n",
        "\n",
        "class Head(nn.Module):\n",
        "    def __init__(self, head_dim, model_dim, block_size, causal_attention=False) -> None:\n",
        "        super().__init__()\n",
        "        self.head_dim = head_dim\n",
        "        self.model_dim = model_dim\n",
        "        self.block_size = block_size\n",
        "        self.causal_attention = causal_attention\n",
        "        # for each head, apply different learned linear transform on x to get query, key and value \n",
        "        self.query = nn.Linear(model_dim, head_dim, bias=False)\n",
        "        self.key = nn.Linear(model_dim, head_dim, bias=False)\n",
        "        self.value = nn.Linear(model_dim, head_dim, bias=False)\n",
        "        # for causal attention\n",
        "        if causal_attention:\n",
        "            self.register_buffer('tril', torch.tril(torch.ones(block_size, block_size))) # max context length = block_size\n",
        "\n",
        "\n",
        "    def forward(self, x):\n",
        "        B, T, C = x.shape # T is sequence length\n",
        "        Q = self.query(x) # (batch_size, T, head_dim)\n",
        "        K = self.key(x) # (batch_size, T, head_dim)\n",
        "        V = self.value(x) # (batch_size, T, head_dim)\n",
        "\n",
        "        # scaled_dot_product_attention\n",
        "        # MatMul\n",
        "        weight_matrix = Q @ K.transpose(1,2)\n",
        "        # Scale\n",
        "        weight_matrix = weight_matrix * self.head_dim **(-0.5)\n",
        "        # Mask for causal self-attention\n",
        "        if self.causal_attention:\n",
        "            # mask: self.tril[:T, :T]\n",
        "            weight_matrix = weight_matrix.masked_fill(self.tril[:T, :T] == 0, float(\"-inf\"))\n",
        "        # softmax; weight_matrix:(batch_size, T, T)\n",
        "        weight_matrix = F.softmax(weight_matrix, dim=-1)\n",
        "        # MatMul (weighted sum)\n",
        "        out = weight_matrix @ V # out: (batch_size, T, head_dim)\n",
        "        return out"
      ],
      "metadata": {
        "id": "kMhOlpwOmJJK"
      },
      "execution_count": 12,
      "outputs": []
    },
    {
      "cell_type": "code",
      "source": [
        "# Let's modify our baseline bigram neural netwrok model with position embedding layer\n",
        "class TransformerLanguageModel(nn.Module):\n",
        "    def __init__(self, vocab_size, block_size, model_dim, n_layer, n_head, causal_attention) -> None:\n",
        "        super().__init__()\n",
        "        self.block_size = block_size # max context length\n",
        "        self.model_dim = model_dim\n",
        "        self.vocab_size = vocab_size\n",
        "        self.token_embed_layer = nn.Embedding(vocab_size, model_dim) # input: (B, T) output: (B, T, model_dim)\n",
        "        self.pos_embed_layer = nn.Embedding(block_size, model_dim) # input: (T,) output: (T, model_dim)\n",
        "        # Stacked Transformer Blocks\n",
        "        self.layers = nn.Sequential(*[TransformerBlock(n_head, model_dim, block_size, causal_attention) for _ in range(n_layer)])\n",
        "\n",
        "        self.out_linear_proj = nn.Linear(model_dim, vocab_size)\n",
        "\n",
        "\n",
        "    def forward(self, idx, target=None):\n",
        "        B, T = idx.shape # idx: (B, T) T is sequence length\n",
        "        token_emb = self.token_embed_layer(idx)\n",
        "        pos_emb = self.pos_embed_layer(torch.arange(T, device=idx.device))\n",
        "        # broadcast pos_emb along the batch dimension of token_emb\n",
        "        token_emb = token_emb + pos_emb\n",
        "\n",
        "        logits = self.out_linear_proj(self.layers(token_emb))\n",
        "\n",
        "        if target is None:\n",
        "            loss = None\n",
        "        else:\n",
        "            B, T, C = logits.shape\n",
        "            logits = logits.view(B*T, C)\n",
        "            target = target.view(B*T)\n",
        "            loss = F.cross_entropy(logits, target)\n",
        "        return logits, loss\n",
        "\n",
        "    def generate(self, idx, max_token):\n",
        "        \n",
        "        for i in range(max_token):\n",
        "            # block_size is the maximum context length of our LM, therefore we can only use last block_size characters as input to generate next character\n",
        "            logits, _ = self(idx[:,-block_size:]) # idx: (B,T) logits: (B, T, vocab_size)\n",
        "            logits = logits[:,-1,:] # only last position token is required to generate next character\n",
        "            # apply softmax to get probabilities\n",
        "            probs = F.softmax(logits, dim=-1) # (B, C)\n",
        "            sample = torch.multinomial(probs, num_samples=1)\n",
        "            idx = torch.cat((idx, sample), dim=1)\n",
        "        return idx\n"
      ],
      "metadata": {
        "id": "3_E43Y_BDtkx"
      },
      "execution_count": 13,
      "outputs": []
    },
    {
      "cell_type": "code",
      "source": [
        "# hyperparameters\n",
        "batch_size = 16\n",
        "block_size = 32\n",
        "n_iters = 5000\n",
        "eval_interval = 1#100\n",
        "learning_rate = 1e-3\n",
        "eval_iters = 200\n",
        "model_dim = 64\n",
        "n_head = 4\n",
        "n_layer = 4\n",
        "causal_attention = True"
      ],
      "metadata": {
        "id": "85VjFUtN_9em"
      },
      "execution_count": 14,
      "outputs": []
    },
    {
      "cell_type": "code",
      "source": [
        "device"
      ],
      "metadata": {
        "colab": {
          "base_uri": "https://localhost:8080/",
          "height": 35
        },
        "id": "AU3ua7_dBb3t",
        "outputId": "150422f0-a8c7-4179-f3f2-c6ca666c7381"
      },
      "execution_count": 17,
      "outputs": [
        {
          "output_type": "execute_result",
          "data": {
            "text/plain": [
              "'cuda'"
            ],
            "application/vnd.google.colaboratory.intrinsic+json": {
              "type": "string"
            }
          },
          "metadata": {},
          "execution_count": 17
        }
      ]
    },
    {
      "cell_type": "markdown",
      "source": [
        "\n",
        "Let's check if the model is implemented correctly by computing loss with the initial random weights before training.\n",
        "\n"
      ],
      "metadata": {
        "id": "7q0Vb35KFC-q"
      }
    },
    {
      "cell_type": "code",
      "source": [
        "char_transformer = TransformerLanguageModel(vocab_size, block_size, model_dim, n_layer, n_head, causal_attention).to(device)\n",
        "X, Y = build_batch(\"train\", batch_size, block_size)\n",
        "logits, loss = char_transformer(X, Y)\n",
        "print(logits.shape)\n",
        "print(loss) # should be approx -ln(1/vocab_size)\n"
      ],
      "metadata": {
        "colab": {
          "base_uri": "https://localhost:8080/"
        },
        "id": "CQ_A_ijGxwSf",
        "outputId": "15ef085b-34d1-4938-eb56-dee9ff891d1a"
      },
      "execution_count": 15,
      "outputs": [
        {
          "output_type": "stream",
          "name": "stdout",
          "text": [
            "torch.Size([512, 65])\n",
            "tensor(4.5721, device='cuda:0', grad_fn=<NllLossBackward0>)\n"
          ]
        }
      ]
    },
    {
      "cell_type": "code",
      "source": [
        "start_token = torch.zeros((1, 1), dtype=torch.long, device=device)\n",
        "generated_token = char_transformer.generate(start_token, max_token=100)\n",
        "print(decode(generated_token[0].tolist()))"
      ],
      "metadata": {
        "colab": {
          "base_uri": "https://localhost:8080/"
        },
        "id": "bpJrUOq1D3Oy",
        "outputId": "e10986ca-3aba-4d5f-8bcf-ca6435829737"
      },
      "execution_count": 16,
      "outputs": [
        {
          "output_type": "stream",
          "name": "stdout",
          "text": [
            "\n",
            "GsBSJ\n",
            "\n",
            "UGaM!NViPxyfsuF \n",
            "f g3\n",
            "fJbCOeyuPkD$J!u\n",
            "e!dTu$XzoXHGoe.?ppPxxqMRpbXau$3BL,cElwyk-ku?fG-Xfzt!zUA\n"
          ]
        }
      ]
    },
    {
      "cell_type": "code",
      "source": [
        "char_transformer = TransformerLanguageModel(vocab_size, block_size, model_dim, n_layer, n_head, causal_attention).to(device)\n",
        "optimizer = torch.optim.AdamW(char_transformer.parameters(), learning_rate)\n",
        "\n",
        "# print the number of parameters in the model = vocab_size * vocab_size\n",
        "print(sum(p.numel() for p in char_transformer.parameters())/1e6, 'M parameters')"
      ],
      "metadata": {
        "colab": {
          "base_uri": "https://localhost:8080/"
        },
        "id": "2OqjnPs7E81b",
        "outputId": "433afdee-08ef-4670-bf1b-471b4abf2070"
      },
      "execution_count": 20,
      "outputs": [
        {
          "output_type": "stream",
          "name": "stdout",
          "text": [
            "0.209601 M parameters\n"
          ]
        }
      ]
    },
    {
      "cell_type": "code",
      "source": [
        "train_loss = []\n",
        "val_loss = []"
      ],
      "metadata": {
        "id": "syys6TQHF_52"
      },
      "execution_count": 21,
      "outputs": []
    },
    {
      "cell_type": "code",
      "source": [
        "train_losses = []\n",
        "val_losses = []\n"
      ],
      "metadata": {
        "id": "yofQJDDelQV1"
      },
      "execution_count": 60,
      "outputs": []
    },
    {
      "cell_type": "code",
      "source": [
        "300*11 + 600*3+len(train_loss)"
      ],
      "metadata": {
        "colab": {
          "base_uri": "https://localhost:8080/"
        },
        "id": "-lrSFlwFnEGB",
        "outputId": "cffb94ba-8c59-4483-eacc-5d261f432c79"
      },
      "execution_count": 103,
      "outputs": [
        {
          "output_type": "execute_result",
          "data": {
            "text/plain": [
              "5270"
            ]
          },
          "metadata": {},
          "execution_count": 103
        }
      ]
    },
    {
      "cell_type": "code",
      "source": [
        "# hyperparameters\n",
        "batch_size = 16\n",
        "block_size = 32\n",
        "n_iters = 300\n",
        "eval_interval = 100\n",
        "learning_rate = 1e-3\n",
        "eval_iters = 200\n",
        "model_dim = 64\n",
        "n_head = 4\n",
        "n_layer = 4\n",
        "causal_attention = True\n",
        "\n",
        "# training loop\n",
        "for iter in range(n_iters):\n",
        "    char_transformer.train()\n",
        "    X, y = build_batch(\"train\", batch_size, block_size)\n",
        "    logits, loss = char_transformer(X, y)\n",
        "    optimizer.zero_grad()\n",
        "    loss.backward()\n",
        "    optimizer.step()\n",
        "\n",
        "    with torch.no_grad():\n",
        "        if iter % eval_interval == 0:\n",
        "            char_transformer.eval()\n",
        "            running_val_loss = 0.0\n",
        "            for _ in range(eval_iters):\n",
        "                X, y = build_batch(\"val\", batch_size, block_size)\n",
        "                logits, loss = char_transformer(X, y)\n",
        "                running_val_loss += loss.item()\n",
        "            val_losses.append(running_val_loss/eval_iters)\n",
        "            running_train_loss = 0.0\n",
        "            for _ in range(eval_iters):\n",
        "                X, y = build_batch(\"train\", batch_size, block_size)\n",
        "                logits, loss = char_transformer(X, y)\n",
        "                running_train_loss += loss.item()\n",
        "            train_losses.append(running_train_loss/eval_iters)"
      ],
      "metadata": {
        "id": "j95ixtE1GCOR"
      },
      "execution_count": 102,
      "outputs": []
    },
    {
      "cell_type": "code",
      "source": [
        "train_losses[-1], val_losses[-1]"
      ],
      "metadata": {
        "colab": {
          "base_uri": "https://localhost:8080/"
        },
        "id": "3m7hU6GV69Ok",
        "outputId": "37ef59fe-e034-4067-be8d-bd1564fdb3c7"
      },
      "execution_count": 104,
      "outputs": [
        {
          "output_type": "execute_result",
          "data": {
            "text/plain": [
              "(1.6578997802734374, 1.8198964726924896)"
            ]
          },
          "metadata": {},
          "execution_count": 104
        }
      ]
    },
    {
      "cell_type": "code",
      "source": [
        "plt.plot(train_losses, label=\"train\")\n",
        "plt.plot(val_losses, label=\"val\")\n",
        "plt.legend()"
      ],
      "metadata": {
        "colab": {
          "base_uri": "https://localhost:8080/",
          "height": 283
        },
        "id": "gANluEPcGEWj",
        "outputId": "0565bb6d-1087-4e62-e96a-9fec727faf0a"
      },
      "execution_count": 105,
      "outputs": [
        {
          "output_type": "execute_result",
          "data": {
            "text/plain": [
              "<matplotlib.legend.Legend at 0x7f5961858df0>"
            ]
          },
          "metadata": {},
          "execution_count": 105
        },
        {
          "output_type": "display_data",
          "data": {
            "text/plain": [
              "<Figure size 432x288 with 1 Axes>"
            ],
            "image/png": "[encoded data removed]"
          },
          "metadata": {
            "needs_background": "light"
          }
        }
      ]
    },
    {
      "cell_type": "code",
      "source": [
        "start_token = torch.zeros((1, 1), dtype=torch.long, device=device)\n",
        "generated_token = char_transformer.generate(start_token, max_token=2000)\n",
        "print(f\"Generated text:{decode(generated_token[0].tolist())}\")"
      ],
      "metadata": {
        "colab": {
          "base_uri": "https://localhost:8080/"
        },
        "id": "4KF3JT0tGHFc",
        "outputId": "7e0f2049-0223-46ca-89a7-f2fb407bf4a4"
      },
      "execution_count": 106,
      "outputs": [
        {
          "output_type": "stream",
          "name": "stdout",
          "text": [
            "Generated text:\n",
            "Kencesst in spirve and and by Mar;\n",
            "Aling a heart, he come. Then then humag as pracemess avind:\n",
            "Were I had blesling be; there's love I hapes comming mustrance of mecutly.\n",
            "\n",
            "MENT:\n",
            "For own I have like pents, you thou sheld better had exer\n",
            "Richmory land of gle best, and lise\n",
            "Art!\n",
            "Wen anour moce and shall, when it then your have sadly.\n",
            "\n",
            "TYMININGBY:\n",
            "True to you but you all\n",
            "Horton you shall oft, I'll know, I then;\n",
            "My from live, mast streng'd hard well-Even Turse no fillow move;\n",
            "Which this low the from sacnion thee.\n",
            "\n",
            "HENRY BOLINGBROKE:\n",
            "He won child no do'd glo, pulght me have love!\n",
            "\n",
            "GREWICHICl HINRG HENRY VI:\n",
            "But is my do in and in the till most farteen, your with him so;\n",
            "He prectifur\n",
            "of such duke jarfarew:'\n",
            "Yoo lasgle no is she numbertents, canst in espor to hem baid,\n",
            "Beetrinemnate the for when,\n",
            "We dost with and meant for than I tall you way not is culd\n",
            "up an deamful man thy lard she\n",
            "your lord'd endsune our here, me be my face!\n",
            "\n",
            "Nessel Loving.\n",
            "\n",
            "DUKE VINCENTIO:\n",
            "Then; but those year on, but will\n",
            "Qrom my would the quart it o' the\n",
            "Now it most their agains, perdecterous have\n",
            "A devill the pitcheointle your sour soings.\n",
            "Give and of honest, and will is, rove me underforer,\n",
            "When like to yat not stadd'et, be night ox.\n",
            "\n",
            "TOMPT:\n",
            "Home inding, and with not landemiled hang newsure chold will have have sence tongues hone!\n",
            "\n",
            "Nor RINCE XI:\n",
            "me bothd uses now, with is majoushomes him.\n",
            "\n",
            "BENVOLYCUMNIA:\n",
            "Signice on what some off not her in eathIs thee for thee pupron then'd; if held The all heard he shore\n",
            "What a soome temphath shed heriff you,\n",
            "Then lek of dost thou hord and, orteld,\n",
            "The is pursuled you hast name hols, sid she now ruch word no foll:\n",
            "His the make of their is thisles\n",
            "to an the suxo.\n",
            "\n",
            "EDWARD:\n",
            "Hensinat, Pond sany files abjine\n",
            "Tray floight so, me wordich compungest,\n",
            "So stame provous four to humarcher old must and-brow child which strew with a, be him actory alless windroning me were havist:\n",
            "Pilight!\n",
            "\n",
            "MENC Congle some thou have thy lord: if extrrewent, and nots whon\n",
            "ye will perpentless, I \n"
          ]
        }
      ]
    },
    {
      "cell_type": "code",
      "source": [
        "# save model checkpoint\n",
        "torch.save(char_transformer.state_dict(), \"char_transformer_LM.pt\")"
      ],
      "metadata": {
        "id": "b378zXz6q4wS"
      },
      "execution_count": 108,
      "outputs": []
    }
  ],
  "metadata": {
    "kernelspec": {
      "display_name": "ml_env_3.9",
      "language": "python",
      "name": "python3"
    },
    "language_info": {
      "codemirror_mode": {
        "name": "ipython",
        "version": 3
      },
      "file_extension": ".py",
      "mimetype": "text/x-python",
      "name": "python",
      "nbconvert_exporter": "python",
      "pygments_lexer": "ipython3",
      "version": "3.9.15"
    },
    "orig_nbformat": 4,
    "vscode": {
      "interpreter": {
        "hash": "02a75899b11e31bd85ccc905c76a128ad2bb11b6b68df04d39be7741d54ebc47"
      }
    },
    "colab": {
      "provenance": [],
      "include_colab_link": true
    },
    "accelerator": "GPU",
    "gpuClass": "standard"
  },
  "nbformat": 4,
  "nbformat_minor": 0
}