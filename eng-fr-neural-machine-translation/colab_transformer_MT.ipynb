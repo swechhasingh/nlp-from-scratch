{
  "cells": [
    {
      "cell_type": "markdown",
      "metadata": {
        "id": "view-in-github",
        "colab_type": "text"
      },
      "source": [
        "<a href=\"https://colab.research.google.com/github/swechhasingh/nlp-from-scratch/blob/main/eng-fr-neural-machine-translation/colab_transformer_MT.ipynb\" target=\"_parent\"><img src=\"https://colab.research.google.com/assets/colab-badge.svg\" alt=\"Open In Colab\"/></a>"
      ]
    },
    {
      "cell_type": "markdown",
      "metadata": {
        "id": "DUQmX6mSW3Jo"
      },
      "source": [
        "### English-French Neural Machine Translation"
      ]
    },
    {
      "cell_type": "code",
      "execution_count": 1,
      "metadata": {
        "id": "eL3dE0XzW3Jp"
      },
      "outputs": [],
      "source": [
        "from __future__ import unicode_literals, print_function, division\n",
        "from io import open\n",
        "import unicodedata\n",
        "import string\n",
        "import re\n",
        "import random\n",
        "\n",
        "import torch\n",
        "import torch.nn as nn\n",
        "from torch import optim\n",
        "import torch.nn.functional as F\n",
        "from torch.optim.lr_scheduler import LambdaLR\n",
        "\n",
        "from matplotlib import pyplot as plt\n",
        "%matplotlib inline"
      ]
    },
    {
      "cell_type": "code",
      "execution_count": 2,
      "metadata": {
        "colab": {
          "base_uri": "https://localhost:8080/"
        },
        "id": "Fuq5OkRCW3Jq",
        "outputId": "68fd663d-68e5-423f-fc79-de275946af99"
      },
      "outputs": [
        {
          "output_type": "stream",
          "name": "stdout",
          "text": [
            "MPS not available because the current PyTorch install was not built with MPS enabled.\n"
          ]
        }
      ],
      "source": [
        "# Check that MPS is available\n",
        "if not torch.backends.mps.is_available():\n",
        "    if not torch.backends.mps.is_built():\n",
        "        print(\"MPS not available because the current PyTorch install was not \"\n",
        "              \"built with MPS enabled.\")\n",
        "    else:\n",
        "        print(\"MPS not available because the current MacOS version is not 12.3+ \"\n",
        "              \"and/or you do not have an MPS-enabled device on this machine.\")"
      ]
    },
    {
      "cell_type": "code",
      "execution_count": 3,
      "metadata": {
        "colab": {
          "base_uri": "https://localhost:8080/"
        },
        "id": "sYbxTQsXW3Jq",
        "outputId": "d02af3fc-a18e-4d9d-fe94-1af12898f067"
      },
      "outputs": [
        {
          "output_type": "execute_result",
          "data": {
            "text/plain": [
              "device(type='cuda')"
            ]
          },
          "metadata": {},
          "execution_count": 3
        }
      ],
      "source": [
        "device = torch.device(\"cuda\" if torch.cuda.is_available() else \"cpu\")\n",
        "# device = torch.device(\"mps\")\n",
        "device"
      ]
    },
    {
      "cell_type": "code",
      "execution_count": 4,
      "metadata": {
        "id": "pYP1gEp3W3Jr"
      },
      "outputs": [],
      "source": [
        "src_language = 'eng'\n",
        "target_language = 'fra'"
      ]
    },
    {
      "cell_type": "code",
      "execution_count": 5,
      "metadata": {
        "id": "CDlbvXFbW3Jr",
        "outputId": "27d3b8eb-c242-46e6-8490-c3fa9353b2ca",
        "colab": {
          "base_uri": "https://localhost:8080/"
        }
      },
      "outputs": [
        {
          "output_type": "stream",
          "name": "stdout",
          "text": [
            "['Go.\\tVa !', 'Run!\\tCours\\u202f!', 'Run!\\tCourez\\u202f!', 'Wow!\\tÇa alors\\u202f!', 'Fire!\\tAu feu !']\n"
          ]
        }
      ],
      "source": [
        "# Read the file and split into lines\n",
        "with open('data/%s-%s.txt' % (src_language, target_language), encoding='utf-8') as file:\n",
        "    text_data = file.read().splitlines()\n",
        "print(text_data[:5])"
      ]
    },
    {
      "cell_type": "markdown",
      "metadata": {
        "id": "JHrWihehW3Jr"
      },
      "source": [
        "The text is in Unicode. So, we will take the following preprocessing steps:\n",
        "1. Turn Unicode characters to ASCII\n",
        "2. lowercase\n",
        "3. Trim most punctuation"
      ]
    },
    {
      "cell_type": "code",
      "execution_count": 6,
      "metadata": {
        "id": "zsi0BliwW3Jr"
      },
      "outputs": [],
      "source": [
        "# Turn a Unicode string to plain ASCII, thanks to\n",
        "# https://stackoverflow.com/a/518232/2809427\n",
        "def unicode_to_ascii(sent):\n",
        "    return ''.join(\n",
        "        c for c in unicodedata.normalize('NFD', sent)\n",
        "        if unicodedata.category(c) != 'Mn'\n",
        "    )\n",
        "\n",
        "def preprocess_string(sent):\n",
        "    \"lowercase, unicode_to_ascii, trim, and remove non-letter characters\"\n",
        "    sent = sent.lower().strip()\n",
        "    sent = unicode_to_ascii(sent)\n",
        "    # The backreference \\1 (backslash one) references the first capturing group. \n",
        "    # space followed by \\1 matches the exact same text that was matched by the first capturing group [.!?].\n",
        "    sent = re.sub(r\"([.!?])\", r\" \\1\", sent)\n",
        "    # replace character which are not from this set (a-zA-Z.!?) by single space character\n",
        "    sent = re.sub(r\"[^a-zA-Z.!?]+\", r\" \", sent)\n",
        "    return sent.strip()"
      ]
    },
    {
      "cell_type": "code",
      "execution_count": 7,
      "metadata": {
        "id": "flDteWRLW3Js",
        "outputId": "b8ff8c9d-cf72-45d5-fdda-1bbda2116b2d",
        "colab": {
          "base_uri": "https://localhost:8080/"
        }
      },
      "outputs": [
        {
          "output_type": "stream",
          "name": "stdout",
          "text": [
            "Wow!\tÇa alors !\n",
            "['Ça alors\\u202f!', 'Wow!']\n"
          ]
        }
      ],
      "source": [
        "preprocess_string(text_data[3])\n",
        "print(text_data[3])\n",
        "print(text_data[3].split('\\t')[::-1])"
      ]
    },
    {
      "cell_type": "code",
      "execution_count": 8,
      "metadata": {
        "id": "HcFEWkDSW3Js"
      },
      "outputs": [],
      "source": [
        "def load_data(file_name, reverse=False):\n",
        "    print(\"Reading text file...\")\n",
        "\n",
        "    # Read the file and split into lines\n",
        "    with open('data/%s' % (file_name), encoding='utf-8') as file:\n",
        "        lines = file.read().splitlines()\n",
        "\n",
        "    # Split every line into pairs [src_lang, target_lang] and preprocess\n",
        "    pairs = [[preprocess_string(s) for s in line.split('\\t')] for line in lines]\n",
        "\n",
        "    if reverse:\n",
        "        pairs = [p[::-1] for p in pairs]\n",
        "        \n",
        "    return pairs"
      ]
    },
    {
      "cell_type": "code",
      "execution_count": 9,
      "metadata": {
        "colab": {
          "base_uri": "https://localhost:8080/"
        },
        "id": "1zKwXEPCW3Js",
        "outputId": "9964a5de-b425-4520-a3ab-16bc570064fb"
      },
      "outputs": [
        {
          "output_type": "stream",
          "name": "stdout",
          "text": [
            "Reading text file...\n"
          ]
        }
      ],
      "source": [
        "pairs = load_data('eng-fra.txt', reverse=False)"
      ]
    },
    {
      "cell_type": "code",
      "execution_count": 10,
      "metadata": {
        "id": "tLlMKRkWW3Js"
      },
      "outputs": [],
      "source": [
        "SOS_token = 0\n",
        "EOS_token = 1\n",
        "UNK = 2\n",
        "PAD = 3\n",
        "BLOCK_SIZE = 12\n",
        "\n",
        "class Language:\n",
        "    def __init__(self, lang_name, src=True):\n",
        "        self.lang_name = lang_name\n",
        "        self.word_to_index = {\"SOS\":0, \"EOS\":1, \"UNK\": 2, \"PAD\":3}\n",
        "        self.index_to_word = {0: \"SOS\", 1: \"EOS\", 2: \"UNK\", 3:\"PAD\"}\n",
        "        self.word_to_count = {}\n",
        "        self.vocab_size = 4\n",
        "        self.src = src\n",
        "\n",
        "    def add_word(self, word):\n",
        "        if word not in self.word_to_index:\n",
        "            self.word_to_index[word] = self.vocab_size\n",
        "            self.index_to_word[self.vocab_size] = word\n",
        "            self.vocab_size += 1\n",
        "        self.word_to_count[word] = self.word_to_count.get(word, 0) + 1\n",
        "\n",
        "    def add_sentence(self, sentence):\n",
        "        for word in sentence.split(' '):\n",
        "            self.add_word(word)\n",
        "\n",
        "    def sentence_to_indexes(self, sentence):\n",
        "        idxs = [self.word_to_index[word] if word in self.word_to_index else self.word_to_index[\"UNK\"] for word in sentence.split(' ')]\n",
        "        return idxs\n",
        "        \n",
        "    def indexes_to_sentence(self, indexes):\n",
        "        return ' '.join([self.index_to_word[index] for index in indexes])\n",
        "\n",
        "    def sentence_to_tensor(self, sentence):\n",
        "        indexes = self.sentence_to_indexes(sentence)\n",
        "        indexes = [SOS_token] + indexes + [EOS_token]\n",
        "\n",
        "        max_len = BLOCK_SIZE if self.src else BLOCK_SIZE + 1\n",
        "        \n",
        "        if len(indexes) < max_len:\n",
        "            indexes += [PAD]*(max_len-len(indexes))\n",
        "        else:\n",
        "            indexes = indexes[:max_len]\n",
        "            \n",
        "        indexes = torch.tensor(indexes, dtype=torch.long)\n",
        "        return indexes\n",
        "\n",
        "    def tensor_to_sentence(self, idx_tensor):\n",
        "        if len(idx_tensor.shape) > 1:\n",
        "            idxs = idx_tensor.tolist()[0]\n",
        "        else:\n",
        "            idxs = idx_tensor.tolist()\n",
        "        sentence = self.indexes_to_sentence(idxs)\n",
        "        return sentence"
      ]
    },
    {
      "cell_type": "code",
      "execution_count": 11,
      "metadata": {
        "id": "CO2pdabRW3Jt"
      },
      "outputs": [],
      "source": [
        "# create language instances\n",
        "src_lang = Language(src_language)\n",
        "target_lang = Language(target_language)\n",
        "\n",
        "for src, target in pairs:\n",
        "    src_lang.add_sentence(src)\n",
        "    target_lang.add_sentence(target) "
      ]
    },
    {
      "cell_type": "markdown",
      "metadata": {
        "id": "6nZesrsgW3Jt"
      },
      "source": [
        "Since there are a lot of example sentences and we want to train something quickly, we’ll trim the data set to only relatively short and simple sentences. Here the maximum length is 10 words (that includes ending punctuation) and we’re filtering to sentences that translate to the form “I am” or “He is” etc. (accounting for apostrophes replaced earlier)."
      ]
    },
    {
      "cell_type": "markdown",
      "metadata": {
        "id": "wYDeVCulW3Jt"
      },
      "source": []
    },
    {
      "cell_type": "code",
      "execution_count": 12,
      "metadata": {
        "id": "WXLu25TjW3Jt"
      },
      "outputs": [],
      "source": [
        "MAX_LENGTH = 10\n",
        "\n",
        "eng_prefixes = (\n",
        "    \"i am \", \"i m \",\n",
        "    \"he is\", \"he s \",\n",
        "    \"she is\", \"she s \",\n",
        "    \"you are\", \"you re \",\n",
        "    \"we are\", \"we re \",\n",
        "    \"they are\", \"they re \"\n",
        ")\n",
        "\n",
        "\n",
        "def filterPair(p, reverse=False):\n",
        "    return len(p[0].split(' ')) < MAX_LENGTH and \\\n",
        "        len(p[1].split(' ')) < MAX_LENGTH and \\\n",
        "        p[1 if reverse else 0].startswith(eng_prefixes)\n",
        "\n",
        "\n",
        "def filterPairs(pairs, reverse):\n",
        "    return [pair for pair in pairs if filterPair(pair, reverse)]"
      ]
    },
    {
      "cell_type": "markdown",
      "metadata": {
        "id": "j0cyjbJEW3Jt"
      },
      "source": [
        "The full process for preparing the data is:\n",
        "\n",
        "Read text file and split into lines, split lines into pairs\n",
        "\n",
        "Normalize text, filter by length and content\n",
        "\n",
        "Make word lists from sentences in pairs"
      ]
    },
    {
      "cell_type": "code",
      "execution_count": 13,
      "metadata": {
        "id": "nqu3b83qW3Jt"
      },
      "outputs": [],
      "source": [
        "def create_dataset(src_lang, target_lang, reverse=False):\n",
        "    pairs = load_data('eng-fra.txt', reverse)\n",
        "\n",
        "    # create language instances\n",
        "    input_lang = Language(src_lang)\n",
        "    output_lang = Language(target_lang, src=False)\n",
        "\n",
        "    print(\"Read %s sentence pairs\" % len(pairs))\n",
        "\n",
        "    pairs = filterPairs(pairs, reverse)\n",
        "    print(\"Trimmed to %s sentence pairs\" % len(pairs))\n",
        "\n",
        "    # train/val/test split\n",
        "    n_total = len(pairs)\n",
        "    n_train = int(0.8*n_total)\n",
        "    n_val = int(0.1*n_total)\n",
        "    n_test = n_total - n_train - n_val\n",
        "    print(f\"{n_train=}, {n_val=}, {n_test=}\")\n",
        "    pair_split = {}\n",
        "    pair_split['train'] = pairs[:n_train]\n",
        "    pair_split['val'] = pairs[n_train:n_train + n_val]\n",
        "    pair_split['test'] = pairs[n_train + n_val:]\n",
        "    \n",
        "    print(\"Counting words...\")\n",
        "    print(\"Creating source and target language vocab using pair_split['train']...\")\n",
        "    for src, target in pair_split['train']:\n",
        "        input_lang.add_sentence(src)\n",
        "        output_lang.add_sentence(target) \n",
        "\n",
        "    print(\"Counted words:\")\n",
        "    print(input_lang.lang_name, input_lang.vocab_size)\n",
        "    print(output_lang.lang_name, output_lang.vocab_size)\n",
        "    return input_lang, output_lang, pair_split"
      ]
    },
    {
      "cell_type": "code",
      "execution_count": 14,
      "metadata": {
        "colab": {
          "base_uri": "https://localhost:8080/"
        },
        "id": "nk-EpzmlW3Ju",
        "outputId": "96f47304-b86c-4f93-e549-8f8e135a3ffe"
      },
      "outputs": [
        {
          "output_type": "stream",
          "name": "stdout",
          "text": [
            "Reading text file...\n",
            "Read 135842 sentence pairs\n",
            "Trimmed to 10599 sentence pairs\n",
            "n_train=8479, n_val=1059, n_test=1061\n",
            "Counting words...\n",
            "Creating source and target language vocab using pair_split['train']...\n",
            "Counted words:\n",
            "eng 2184\n",
            "fra 3526\n",
            "['you re conscientious .', 'tu es consciencieux .']\n"
          ]
        }
      ],
      "source": [
        "src_lang, target_lang, pair_split = create_dataset('eng', 'fra', reverse=False)\n",
        "print(random.choice(pair_split[\"train\"]))"
      ]
    },
    {
      "cell_type": "markdown",
      "metadata": {
        "id": "dopRngz7W3Ju"
      },
      "source": [
        "#### Tokenization: Words to indexes\n",
        "In seq2seq task takes an input sequence (source seq) and outputs another sequence (target seq). In our case, we have an input sentence in English language and a corresponding translated sentence in French language. These sentence need to converted into numbers (integers) to be able to into to a neural network. For this, we will use **word-level tokenization**, i.e *word to integer* index mapping.\n",
        "\n",
        "We need some special tokens to indicate start (SOS) and end (EOS) of a sentence. For the input sequence (source seq), the model needs to know when the input has ended and for the target sequence, the model needs to know when to start and when to end.\n",
        "\n",
        "So, we will append the EOS token to the end of input sentence and wrap the target sentence by SOS (in the beginning) and the EOS (in the end) tokens."
      ]
    },
    {
      "cell_type": "code",
      "execution_count": 15,
      "metadata": {
        "id": "H_1q9Ph9W3Ju"
      },
      "outputs": [],
      "source": [
        "\n",
        "def sent_pair_to_tensor_pair(pair, src_lang, target_lang):\n",
        "    input_tensor = src_lang.sentence_to_tensor(pair[0])\n",
        "    target_tensor = target_lang.sentence_to_tensor(pair[1])\n",
        "    return input_tensor, target_tensor\n",
        "\n",
        "def tensor_pair_to_sent_pair(pair, src_lang, target_lang):\n",
        "    input_tensor = src_lang.tensor_to_sentence(pair[0])\n",
        "    target_tensor = target_lang.tensor_to_sentence(pair[1])\n",
        "    return (input_tensor, target_tensor)"
      ]
    },
    {
      "cell_type": "code",
      "execution_count": 16,
      "metadata": {
        "colab": {
          "base_uri": "https://localhost:8080/"
        },
        "id": "hqfYklMAW3Ju",
        "outputId": "d017b51b-55e3-4d05-ff37-429fef365266"
      },
      "outputs": [
        {
          "output_type": "stream",
          "name": "stdout",
          "text": [
            "['i m learning music .', 'j etudie la musique .']\n",
            "(tensor([   0,    4,    5, 1057, 1020,    6,    1,    3,    3,    3,    3,    3]), tensor([   0,    4,  642,  204, 1852,    7,    1,    3,    3,    3,    3,    3,\n",
            "           3]))\n",
            "(tensor([   0,    4,    5, 1057, 1020,    6,    1,    3,    3,    3,    3,    3]), tensor([   0,    4,  642,  204, 1852,    7,    1,    3,    3,    3,    3,    3,\n",
            "           3]))\n",
            "('SOS i m learning music . EOS PAD PAD PAD PAD PAD', 'SOS j etudie la musique . EOS PAD PAD PAD PAD PAD PAD')\n"
          ]
        }
      ],
      "source": [
        "pair = random.choices(pair_split[\"train\"], k=1)[0]\n",
        "print(pair)\n",
        "print(sent_pair_to_tensor_pair(pair, src_lang, target_lang))\n",
        "print(sent_pair_to_tensor_pair(pair, src_lang, target_lang))\n",
        "\n",
        "p1, p2 = sent_pair_to_tensor_pair(pair, src_lang, target_lang)\n",
        "print(tensor_pair_to_sent_pair((p1,p2), src_lang, target_lang))"
      ]
    },
    {
      "cell_type": "code",
      "execution_count": 17,
      "metadata": {
        "id": "wkucay4VW3Ju"
      },
      "outputs": [],
      "source": [
        "class Batch:\n",
        "    def __init__(self, src, target=None, pad_idx=2) -> None:\n",
        "        # src and target sequences have same length\n",
        "        self.src = src #shape:(B,T)\n",
        "        # src_mask:(B,1,1,T)\n",
        "        self.src_mask = (src != pad_idx).unsqueeze(-2).unsqueeze(-2)\n",
        "        if target is not None:\n",
        "            # decoder output shifted by one\n",
        "            self.tgt = target[:,:-1] #shape:(B,T)\n",
        "            self.tgt_y = target[:,1:]\n",
        "            # padding mask: (B,T)\n",
        "            self.tgt_pad_mask = (self.tgt_y != pad_idx)\n",
        "            self.tgt_mask = self.causal_mask(self.tgt, pad_idx)\n",
        "            self.n_tokens = self.tgt_pad_mask.sum().item()\n",
        "\n",
        "    @staticmethod   \n",
        "    def causal_mask(target, pad_idx):\n",
        "        # max context length = block_size\n",
        "        T = target.shape[1]\n",
        "        # causal attention mask: (1,T,T)\n",
        "        causal_attn_mask = torch.tril(torch.ones(1, T, T, dtype=torch.bool, device=target.device))\n",
        "        # padding mask: (B,1,T)\n",
        "        tgt_pad_mask = (target != pad_idx).unsqueeze(-2)\n",
        "        target_mask = tgt_pad_mask & causal_attn_mask\n",
        "        return target_mask.unsqueeze(1) # (B,1,T,T)\n",
        "\n",
        "        \n",
        "def build_batch(split, batch_size=4):\n",
        "    if split == \"train\":\n",
        "        pairs = pair_split[\"train\"]\n",
        "    elif split == \"val\":\n",
        "        pairs = pair_split[\"val\"]\n",
        "    else:\n",
        "        pairs = pair_split[\"test\"]\n",
        "    # randomly (uniformly) sample a start index for a sentence of length block_size\n",
        "    # number of sequences in a batch is batch_size\n",
        "    batch_pairs = random.choices(pairs, k=batch_size)\n",
        "    # input \n",
        "    src_batch = []\n",
        "    target_batch = []\n",
        "    \n",
        "    for pair in batch_pairs:\n",
        "        src_tensor, target_tensor = sent_pair_to_tensor_pair(pair, src_lang, target_lang)\n",
        "        src_batch.append(src_tensor)\n",
        "        target_batch.append(target_tensor)\n",
        "    \n",
        "    src = torch.stack(src_batch).to(device)\n",
        "    target = torch.stack(target_batch).to(device)\n",
        "\n",
        "    batch = Batch(src, target, PAD)\n",
        "    return batch"
      ]
    },
    {
      "cell_type": "code",
      "execution_count": 18,
      "metadata": {
        "id": "q3ptKYyQW3Ju"
      },
      "outputs": [],
      "source": [
        "b = build_batch(\"train\", batch_size=2)"
      ]
    },
    {
      "cell_type": "code",
      "execution_count": 19,
      "metadata": {
        "colab": {
          "base_uri": "https://localhost:8080/"
        },
        "id": "RfMMifvOW3Ju",
        "outputId": "3954a55d-80d9-4a28-9040-2d7cfb3f1ea1"
      },
      "outputs": [
        {
          "output_type": "stream",
          "name": "stdout",
          "text": [
            "SOS i m not like other people . EOS PAD PAD PAD\n",
            "SOS je ne suis pas comme les autres gens . EOS PAD\n",
            "je ne suis pas comme les autres gens . EOS PAD PAD\n"
          ]
        }
      ],
      "source": [
        "print(src_lang.tensor_to_sentence(b.src))\n",
        "print(target_lang.tensor_to_sentence(b.tgt))\n",
        "print(target_lang.tensor_to_sentence(b.tgt_y))"
      ]
    },
    {
      "cell_type": "markdown",
      "metadata": {
        "id": "TTUpb-xMW3Jv"
      },
      "source": [
        "#### Seq2Seq English-French Machine Translation Transformer Model"
      ]
    },
    {
      "cell_type": "markdown",
      "metadata": {
        "id": "uDoThXdUW3Jv"
      },
      "source": []
    },
    {
      "cell_type": "code",
      "execution_count": 38,
      "metadata": {
        "id": "-neO0ibaW3Jv"
      },
      "outputs": [],
      "source": [
        "import sys\n",
        "sys.path.append(\"../\")\n",
        "from transformers.transformer import EncDecTransformer\n"
      ]
    },
    {
      "cell_type": "code",
      "execution_count": 39,
      "metadata": {
        "id": "wlLHA3R5W3Jv"
      },
      "outputs": [],
      "source": [
        "# model hyperparameters\n",
        "model_hyparam = {\n",
        "    \"src_vocab_size\": src_lang.vocab_size,\n",
        "    \"tgt_vocab_size\": target_lang.vocab_size,\n",
        "    \"block_size\": BLOCK_SIZE,\n",
        "    \"model_dim\": 128,\n",
        "    \"n_layer\": 4,\n",
        "    \"n_head\": 4,\n",
        "    \"cross_attention\":True\n",
        "}"
      ]
    },
    {
      "cell_type": "code",
      "execution_count": 40,
      "metadata": {
        "colab": {
          "base_uri": "https://localhost:8080/"
        },
        "id": "asx7K1LUW3Jv",
        "outputId": "c40ef687-0693-4e27-94a9-eaa8d437c51b"
      },
      "outputs": [
        {
          "output_type": "execute_result",
          "data": {
            "text/plain": [
              "<__main__.Batch at 0x7f706005fcd0>"
            ]
          },
          "metadata": {},
          "execution_count": 40
        }
      ],
      "source": [
        "batch = build_batch(\"train\", batch_size=4)\n",
        "batch"
      ]
    },
    {
      "cell_type": "code",
      "execution_count": 41,
      "metadata": {
        "id": "QPl4Tp59W3Jv"
      },
      "outputs": [],
      "source": [
        "# training hyperparameters\n",
        "batch_size = 32\n",
        "n_iters = 2000\n",
        "eval_interval = 20\n",
        "base_lr = 1.0\n",
        "eval_iters = 50\n",
        "warmup_steps = 20"
      ]
    },
    {
      "cell_type": "markdown",
      "metadata": {
        "id": "Wn-lvaaXW3Jv"
      },
      "source": [
        "Vary the learning rate over the course of training, according to the formula:<br>\n",
        "<br>\n",
        "$lr = {d_{model}}^{-0.5}*\\min({step\\_num}^{-0.5}, step\\_num * {warmup\\_steps}^{-1.5})$\n",
        "<br>\n",
        "This corresponds to increasing the learning rate linearly for the first $warmup\\_steps$ training steps, and decreasing it thereafter proportionally to the inverse square root of the step number. "
      ]
    },
    {
      "cell_type": "code",
      "execution_count": 24,
      "metadata": {
        "id": "34gGxu3DW3Jv"
      },
      "outputs": [],
      "source": [
        "def learning_rate(step, model_size, factor, warmup):\n",
        "    # default the step to 1 for LambdaLR function to avoid zero raising to negative power\n",
        "    if step == 0:\n",
        "        step = 1\n",
        "    return factor * (\n",
        "        model_size ** (-0.5) * min(step ** (-0.5), step * warmup ** (-1.5))\n",
        "    )"
      ]
    },
    {
      "cell_type": "code",
      "source": [
        "5e-1"
      ],
      "metadata": {
        "colab": {
          "base_uri": "https://localhost:8080/"
        },
        "id": "GapfioYTJ7-9",
        "outputId": "2fec3499-2b1b-42eb-f5b2-8496129c919b"
      },
      "execution_count": 69,
      "outputs": [
        {
          "output_type": "execute_result",
          "data": {
            "text/plain": [
              "0.5"
            ]
          },
          "metadata": {},
          "execution_count": 69
        }
      ]
    },
    {
      "cell_type": "code",
      "execution_count": 70,
      "metadata": {
        "colab": {
          "base_uri": "https://localhost:8080/"
        },
        "id": "s3ZK-uzrW3Jv",
        "outputId": "73a22b95-412f-4fd7-a03b-5ca5b87d1bcb"
      },
      "outputs": [
        {
          "output_type": "stream",
          "name": "stdout",
          "text": [
            "3.039174 M parameters\n"
          ]
        }
      ],
      "source": [
        "mt_transformer = EncDecTransformer(**model_hyparam).to(device)\n",
        "optimizer = torch.optim.AdamW(mt_transformer.parameters(), base_lr, betas=(0.9, 0.98), eps=1e-9, weight_decay=5e-1)\n",
        "lr_scheduler = LambdaLR(optimizer, lr_lambda=lambda step: learning_rate(step, \n",
        "                                                                        model_hyparam[\"model_dim\"], \n",
        "                                                                        factor=1, warmup=warmup_steps))\n",
        "\n",
        "# print the number of parameters in the model\n",
        "print(sum(p.numel() for p in mt_transformer.parameters())/1e6, 'M parameters')"
      ]
    },
    {
      "cell_type": "code",
      "execution_count": 52,
      "metadata": {
        "colab": {
          "base_uri": "https://localhost:8080/"
        },
        "id": "S9R5ldo1W3Jv",
        "outputId": "c67ee6e9-1fd1-41af-acaf-733c80f586e4"
      },
      "outputs": [
        {
          "output_type": "execute_result",
          "data": {
            "text/plain": [
              "{'train': 0.038272821242171004, 'val': 0.030563764732366414}"
            ]
          },
          "metadata": {},
          "execution_count": 52
        }
      ],
      "source": [
        "@torch.no_grad()\n",
        "def compute_loss():\n",
        "    mt_transformer.eval()\n",
        "    out_loss = {}\n",
        "    for split in [\"train\", \"val\"]:\n",
        "        running_loss = 0.0\n",
        "        total_tokens = 0\n",
        "        for _ in range(eval_iters):\n",
        "            batch = build_batch(split, batch_size)\n",
        "            _, loss = mt_transformer(batch.src, \n",
        "                                batch.src_mask,\n",
        "                                batch.tgt,\n",
        "                                batch.tgt_mask,\n",
        "                                batch.tgt_y,\n",
        "                                batch.tgt_pad_mask)\n",
        "            running_loss += loss.item()\n",
        "            total_tokens += batch.n_tokens\n",
        "        out_loss[split] = running_loss/total_tokens\n",
        "    mt_transformer.train()\n",
        "    return out_loss\n",
        "compute_loss()"
      ]
    },
    {
      "cell_type": "code",
      "execution_count": 54,
      "metadata": {
        "id": "eXPEDLVvW3Jw"
      },
      "outputs": [],
      "source": [
        "# training loop\n",
        "def train():\n",
        "    train_losses = []\n",
        "    val_losses = []\n",
        "    min_val_loss = float('inf')\n",
        "    for iter in range(n_iters):\n",
        "        mt_transformer.train()\n",
        "        batch = build_batch(\"train\", batch_size)\n",
        "        _, loss = mt_transformer(batch.src, \n",
        "                                    batch.src_mask,\n",
        "                                    batch.tgt,\n",
        "                                    batch.tgt_mask,\n",
        "                                    batch.tgt_y,\n",
        "                                    batch.tgt_pad_mask)\n",
        "        optimizer.zero_grad(set_to_none=True)\n",
        "        loss.backward()\n",
        "        optimizer.step()\n",
        "        lr_scheduler.step()\n",
        "        \n",
        "        if iter % eval_interval == 0 or iter == n_iters - 1:\n",
        "            losses = compute_loss()\n",
        "            train_losses.append(losses['train'])\n",
        "            val_losses.append(losses['val'])\n",
        "            print(f\"step {iter}: train loss {losses['train']:.4f}, val loss {losses['val']:.4f}\")\n",
        "            # save model checkpoint\n",
        "            if val_losses[-1] < min_val_loss:\n",
        "                min_val_loss = val_losses[-1]\n",
        "                torch.save(mt_transformer.state_dict(), \"mt_transformer.pt\")\n",
        "    return train_losses, val_losses"
      ]
    },
    {
      "cell_type": "code",
      "source": [
        "train_losses, val_losses = train()"
      ],
      "metadata": {
        "colab": {
          "base_uri": "https://localhost:8080/"
        },
        "id": "FXPJCbHjY8Hp",
        "outputId": "4735258b-c1dd-4ec6-b5a2-70356533bd02"
      },
      "execution_count": 71,
      "outputs": [
        {
          "output_type": "stream",
          "name": "stdout",
          "text": [
            "step 0: train loss 0.0336, val loss 0.0280\n",
            "step 20: train loss 0.0176, val loss 0.0185\n",
            "step 40: train loss 0.0157, val loss 0.0169\n",
            "step 60: train loss 0.0148, val loss 0.0161\n",
            "step 80: train loss 0.0140, val loss 0.0161\n",
            "step 100: train loss 0.0135, val loss 0.0157\n",
            "step 120: train loss 0.0133, val loss 0.0154\n",
            "step 140: train loss 0.0130, val loss 0.0153\n",
            "step 160: train loss 0.0129, val loss 0.0150\n",
            "step 180: train loss 0.0127, val loss 0.0148\n",
            "step 200: train loss 0.0124, val loss 0.0147\n",
            "step 220: train loss 0.0123, val loss 0.0144\n",
            "step 240: train loss 0.0120, val loss 0.0145\n",
            "step 260: train loss 0.0119, val loss 0.0146\n",
            "step 280: train loss 0.0119, val loss 0.0147\n",
            "step 300: train loss 0.0114, val loss 0.0143\n",
            "step 320: train loss 0.0114, val loss 0.0142\n",
            "step 340: train loss 0.0111, val loss 0.0141\n",
            "step 360: train loss 0.0109, val loss 0.0144\n",
            "step 380: train loss 0.0106, val loss 0.0141\n",
            "step 400: train loss 0.0104, val loss 0.0139\n",
            "step 420: train loss 0.0103, val loss 0.0136\n",
            "step 440: train loss 0.0101, val loss 0.0139\n",
            "step 460: train loss 0.0102, val loss 0.0137\n",
            "step 480: train loss 0.0099, val loss 0.0138\n",
            "step 500: train loss 0.0100, val loss 0.0136\n",
            "step 520: train loss 0.0098, val loss 0.0141\n",
            "step 540: train loss 0.0097, val loss 0.0136\n",
            "step 560: train loss 0.0095, val loss 0.0138\n",
            "step 580: train loss 0.0093, val loss 0.0132\n",
            "step 600: train loss 0.0093, val loss 0.0129\n",
            "step 620: train loss 0.0092, val loss 0.0132\n",
            "step 640: train loss 0.0091, val loss 0.0132\n",
            "step 660: train loss 0.0089, val loss 0.0130\n",
            "step 680: train loss 0.0087, val loss 0.0128\n",
            "step 700: train loss 0.0089, val loss 0.0129\n",
            "step 720: train loss 0.0087, val loss 0.0126\n",
            "step 740: train loss 0.0084, val loss 0.0126\n",
            "step 760: train loss 0.0083, val loss 0.0127\n",
            "step 780: train loss 0.0082, val loss 0.0125\n",
            "step 800: train loss 0.0082, val loss 0.0124\n",
            "step 820: train loss 0.0081, val loss 0.0126\n",
            "step 840: train loss 0.0081, val loss 0.0123\n",
            "step 860: train loss 0.0081, val loss 0.0124\n",
            "step 880: train loss 0.0078, val loss 0.0121\n",
            "step 900: train loss 0.0079, val loss 0.0124\n",
            "step 920: train loss 0.0080, val loss 0.0122\n",
            "step 940: train loss 0.0075, val loss 0.0120\n",
            "step 960: train loss 0.0076, val loss 0.0119\n",
            "step 980: train loss 0.0075, val loss 0.0120\n",
            "step 1000: train loss 0.0076, val loss 0.0119\n",
            "step 1020: train loss 0.0072, val loss 0.0120\n",
            "step 1040: train loss 0.0072, val loss 0.0119\n",
            "step 1060: train loss 0.0072, val loss 0.0118\n",
            "step 1080: train loss 0.0072, val loss 0.0118\n",
            "step 1100: train loss 0.0071, val loss 0.0117\n",
            "step 1120: train loss 0.0070, val loss 0.0117\n",
            "step 1140: train loss 0.0071, val loss 0.0122\n",
            "step 1160: train loss 0.0070, val loss 0.0119\n",
            "step 1180: train loss 0.0069, val loss 0.0116\n",
            "step 1200: train loss 0.0067, val loss 0.0122\n",
            "step 1220: train loss 0.0068, val loss 0.0116\n",
            "step 1240: train loss 0.0066, val loss 0.0118\n",
            "step 1260: train loss 0.0066, val loss 0.0120\n",
            "step 1280: train loss 0.0066, val loss 0.0116\n",
            "step 1300: train loss 0.0063, val loss 0.0114\n",
            "step 1320: train loss 0.0063, val loss 0.0113\n",
            "step 1340: train loss 0.0064, val loss 0.0117\n",
            "step 1360: train loss 0.0064, val loss 0.0115\n",
            "step 1380: train loss 0.0062, val loss 0.0113\n",
            "step 1400: train loss 0.0061, val loss 0.0117\n",
            "step 1420: train loss 0.0060, val loss 0.0112\n",
            "step 1440: train loss 0.0063, val loss 0.0114\n",
            "step 1460: train loss 0.0062, val loss 0.0114\n",
            "step 1480: train loss 0.0061, val loss 0.0112\n",
            "step 1500: train loss 0.0062, val loss 0.0115\n",
            "step 1520: train loss 0.0060, val loss 0.0116\n",
            "step 1540: train loss 0.0058, val loss 0.0113\n",
            "step 1560: train loss 0.0059, val loss 0.0112\n",
            "step 1580: train loss 0.0058, val loss 0.0116\n",
            "step 1600: train loss 0.0059, val loss 0.0112\n",
            "step 1620: train loss 0.0059, val loss 0.0114\n",
            "step 1640: train loss 0.0062, val loss 0.0114\n",
            "step 1660: train loss 0.0058, val loss 0.0113\n",
            "step 1680: train loss 0.0058, val loss 0.0114\n",
            "step 1700: train loss 0.0056, val loss 0.0115\n",
            "step 1720: train loss 0.0056, val loss 0.0110\n",
            "step 1740: train loss 0.0057, val loss 0.0114\n",
            "step 1760: train loss 0.0054, val loss 0.0112\n",
            "step 1780: train loss 0.0053, val loss 0.0111\n",
            "step 1800: train loss 0.0053, val loss 0.0114\n",
            "step 1820: train loss 0.0053, val loss 0.0112\n",
            "step 1840: train loss 0.0053, val loss 0.0112\n",
            "step 1860: train loss 0.0054, val loss 0.0112\n",
            "step 1880: train loss 0.0054, val loss 0.0112\n",
            "step 1900: train loss 0.0054, val loss 0.0112\n",
            "step 1920: train loss 0.0054, val loss 0.0115\n",
            "step 1940: train loss 0.0053, val loss 0.0110\n",
            "step 1960: train loss 0.0053, val loss 0.0111\n",
            "step 1980: train loss 0.0050, val loss 0.0109\n",
            "step 1999: train loss 0.0053, val loss 0.0111\n"
          ]
        }
      ]
    },
    {
      "cell_type": "code",
      "execution_count": 72,
      "metadata": {
        "colab": {
          "base_uri": "https://localhost:8080/"
        },
        "id": "4sguMZWeW3Jw",
        "outputId": "efe149af-17d7-4c92-b957-80fd7542e5dc"
      },
      "outputs": [
        {
          "output_type": "execute_result",
          "data": {
            "text/plain": [
              "(0.005299158420373307, 0.011125072979212072)"
            ]
          },
          "metadata": {},
          "execution_count": 72
        }
      ],
      "source": [
        "train_losses[-1], val_losses[-1]"
      ]
    },
    {
      "cell_type": "code",
      "execution_count": 73,
      "metadata": {
        "colab": {
          "base_uri": "https://localhost:8080/",
          "height": 287
        },
        "id": "ENVenv5YW3Jw",
        "outputId": "a734cba9-3b64-44c8-b5dd-839b8c334230"
      },
      "outputs": [
        {
          "output_type": "execute_result",
          "data": {
            "text/plain": [
              "<matplotlib.legend.Legend at 0x7f6fa9eb7970>"
            ]
          },
          "metadata": {},
          "execution_count": 73
        },
        {
          "output_type": "display_data",
          "data": {
            "text/plain": [
              "<Figure size 432x288 with 1 Axes>"
            ],
            "image/png": "[encoded data removed]"
          },
          "metadata": {
            "needs_background": "light"
          }
        }
      ],
      "source": [
        "plt.plot(train_losses, label=\"train\")\n",
        "plt.plot(val_losses, label=\"val\")\n",
        "plt.legend()"
      ]
    },
    {
      "cell_type": "code",
      "execution_count": 47,
      "metadata": {
        "colab": {
          "base_uri": "https://localhost:8080/"
        },
        "id": "IM6ZnIOaW3Jw",
        "outputId": "1fe830ab-4787-433b-f002-1f379d47c3a0"
      },
      "outputs": [
        {
          "output_type": "stream",
          "name": "stdout",
          "text": [
            "eng: SOS he is a UNK in UNK s UNK . EOS PAD\n",
            "fra: le garcon est un loup UNK en UNK . EOS PAD PAD\n",
            "fra: SOS c est un pigiste d cycle fille . EOS\n"
          ]
        }
      ],
      "source": [
        "batch = build_batch(\"test\", batch_size=1)\n",
        "print(f\"{src_language}: {src_lang.tensor_to_sentence(batch.src[0])}\")\n",
        "print(f\"{target_language}: {target_lang.tensor_to_sentence(batch.tgt_y[0])}\")\n",
        "out = mt_transformer.generate(batch.src, batch.src_mask, max_tokens=11)\n",
        "print(f\"{target_language}: {target_lang.tensor_to_sentence(out[0])}\")"
      ]
    },
    {
      "cell_type": "code",
      "source": [
        "for i in range(10):\n",
        "    batch = build_batch(\"test\", batch_size=1)\n",
        "    print(f\"{i}-th example:\\n{src_language}: {src_lang.tensor_to_sentence(batch.src[0])}\")\n",
        "    print(f\"{target_language}: {target_lang.tensor_to_sentence(batch.tgt_y[0])}\")\n",
        "    out = mt_transformer.generate(batch.src, batch.src_mask, max_tokens=11)\n",
        "    print(f\"{target_language}: {target_lang.tensor_to_sentence(out[0])}\")\n",
        "    print(\"--------\")"
      ],
      "metadata": {
        "colab": {
          "base_uri": "https://localhost:8080/"
        },
        "id": "FJTJ18nOEMw7",
        "outputId": "1c2878d9-c80b-4faf-88af-f73b26248172"
      },
      "execution_count": 74,
      "outputs": [
        {
          "output_type": "stream",
          "name": "stdout",
          "text": [
            "0-th example:\n",
            "eng: SOS i m very happy to make your UNK . EOS PAD\n",
            "fra: je suis heureux de vous avoir rencontre . EOS PAD PAD PAD\n",
            "fra: SOS instant suis allemand par vous soyez rencontre . EOS\n",
            "--------\n",
            "1-th example:\n",
            "eng: SOS you are more stupid than i thought . EOS PAD PAD\n",
            "fra: tu es plus idiot que je UNK . EOS PAD PAD PAD\n",
            "fra: SOS vous etes plus menteuse que moi . EOS\n",
            "--------\n",
            "2-th example:\n",
            "eng: SOS you are too sensitive to UNK . EOS PAD PAD PAD\n",
            "fra: tu es trop sensible a la critique . EOS PAD PAD PAD\n",
            "fra: SOS tu es trop condamnes touriste . EOS\n",
            "--------\n",
            "3-th example:\n",
            "eng: SOS he is captain of the football team . EOS PAD PAD\n",
            "fra: il est capitaine de l equipe de football . EOS PAD PAD\n",
            "fra: SOS il est haut a humain plage . EOS\n",
            "--------\n",
            "4-th example:\n",
            "eng: SOS you are too young to UNK alone . EOS PAD PAD\n",
            "fra: tu es trop jeune pour voyager seul . EOS PAD PAD PAD\n",
            "fra: SOS vous etes trop gentil pour vous suivre . EOS\n",
            "--------\n",
            "5-th example:\n",
            "eng: SOS i m on UNK for the next month . EOS PAD\n",
            "fra: je suis en UNK pour un mois . EOS PAD PAD PAD\n",
            "fra: SOS j etudie la racistes tot . EOS\n",
            "--------\n",
            "6-th example:\n",
            "eng: SOS you re free of all UNK . EOS PAD PAD PAD\n",
            "fra: vous etes UNK de toute UNK . EOS PAD PAD PAD PAD\n",
            "fra: SOS tu es content de partir toutes . EOS\n",
            "--------\n",
            "7-th example:\n",
            "eng: SOS you are more stupid than i thought . EOS PAD PAD\n",
            "fra: tu es plus idiot que je UNK . EOS PAD PAD PAD\n",
            "fra: SOS tu es plus supplie que vous sous grossiere . EOS\n",
            "--------\n",
            "8-th example:\n",
            "eng: SOS we re trying to UNK down on UNK . EOS PAD\n",
            "fra: nous tentons de UNK les UNK . EOS PAD PAD PAD PAD\n",
            "fra: SOS nous prenons chatouilleuse consciencieuse . EOS\n",
            "--------\n",
            "9-th example:\n",
            "eng: SOS she s suffering from a serious UNK . EOS PAD PAD\n",
            "fra: elle souffre d une UNK grave . EOS PAD PAD PAD PAD\n",
            "fra: SOS elle s ur un emploi . EOS\n",
            "--------\n"
          ]
        }
      ]
    },
    {
      "cell_type": "code",
      "source": [
        "for i in range(10):\n",
        "    batch = build_batch(\"train\", batch_size=1)\n",
        "    print(f\"{i}-th example:\\n{src_language}: {src_lang.tensor_to_sentence(batch.src[0])}\")\n",
        "    print(f\"{target_language}: {target_lang.tensor_to_sentence(batch.tgt_y[0])}\")\n",
        "    out = mt_transformer.generate(batch.src, batch.src_mask, max_tokens=11)\n",
        "    print(f\"{target_language}: {target_lang.tensor_to_sentence(out[0])}\")\n",
        "    print(\"--------\")"
      ],
      "metadata": {
        "colab": {
          "base_uri": "https://localhost:8080/"
        },
        "id": "grurso4YEh9x",
        "outputId": "c8668e61-8f16-495d-b79e-867d8e892916"
      },
      "execution_count": 75,
      "outputs": [
        {
          "output_type": "stream",
          "name": "stdout",
          "text": [
            "0-th example:\n",
            "eng: SOS he s stronger than you . EOS PAD PAD PAD PAD\n",
            "fra: il est plus fort que vous . EOS PAD PAD PAD PAD\n",
            "fra: SOS il est plus interessante que vous . EOS\n",
            "--------\n",
            "1-th example:\n",
            "eng: SOS he is my friend . EOS PAD PAD PAD PAD PAD\n",
            "fra: il est mon ami . EOS PAD PAD PAD PAD PAD PAD\n",
            "fra: SOS c est mon moment . EOS\n",
            "--------\n",
            "2-th example:\n",
            "eng: SOS i am a stranger here . EOS PAD PAD PAD PAD\n",
            "fra: je suis un etranger ici . EOS PAD PAD PAD PAD PAD\n",
            "fra: SOS j ai une citoyenne allergique amende . EOS\n",
            "--------\n",
            "3-th example:\n",
            "eng: SOS we re all here . EOS PAD PAD PAD PAD PAD\n",
            "fra: nous sommes toutes ici . EOS PAD PAD PAD PAD PAD PAD\n",
            "fra: SOS nous sommes toutes ici . EOS\n",
            "--------\n",
            "4-th example:\n",
            "eng: SOS i am sick . EOS PAD PAD PAD PAD PAD PAD\n",
            "fra: je suis malade . EOS PAD PAD PAD PAD PAD PAD PAD\n",
            "fra: SOS j en suis rejoindre bizarre . EOS\n",
            "--------\n",
            "5-th example:\n",
            "eng: SOS you re fortunate . EOS PAD PAD PAD PAD PAD PAD\n",
            "fra: tu es chanceuse . EOS PAD PAD PAD PAD PAD PAD PAD\n",
            "fra: SOS vous etes chanceux . EOS\n",
            "--------\n",
            "6-th example:\n",
            "eng: SOS we re back . EOS PAD PAD PAD PAD PAD PAD\n",
            "fra: nous sommes de retour . EOS PAD PAD PAD PAD PAD PAD\n",
            "fra: SOS nous sommes aboutissons occupes . EOS\n",
            "--------\n",
            "7-th example:\n",
            "eng: SOS i m glad you came over . EOS PAD PAD PAD\n",
            "fra: je me rejouis que vous soyez venus . EOS PAD PAD PAD\n",
            "fra: SOS je suis heureux pour toi si ? EOS\n",
            "--------\n",
            "8-th example:\n",
            "eng: SOS he is a handsome man . EOS PAD PAD PAD PAD\n",
            "fra: c est un bel homme . EOS PAD PAD PAD PAD PAD\n",
            "fra: SOS ambition est un sens un homme . EOS\n",
            "--------\n",
            "9-th example:\n",
            "eng: SOS he s doing his best . EOS PAD PAD PAD PAD\n",
            "fra: il fait de son mieux . EOS PAD PAD PAD PAD PAD\n",
            "fra: SOS il fait citer de votre anglais . EOS\n",
            "--------\n"
          ]
        }
      ]
    },
    {
      "cell_type": "code",
      "source": [],
      "metadata": {
        "id": "m69EuR_4EQV9"
      },
      "execution_count": null,
      "outputs": []
    }
  ],
  "metadata": {
    "kernelspec": {
      "display_name": "ml_mps_env",
      "language": "python",
      "name": "python3"
    },
    "language_info": {
      "codemirror_mode": {
        "name": "ipython",
        "version": 3
      },
      "file_extension": ".py",
      "mimetype": "text/x-python",
      "name": "python",
      "nbconvert_exporter": "python",
      "pygments_lexer": "ipython3",
      "version": "3.9.16 (main, Jan 11 2023, 10:02:19) \n[Clang 14.0.6 ]"
    },
    "orig_nbformat": 4,
    "vscode": {
      "interpreter": {
        "hash": "219301d06b24a901e45fde882757c1228fa788b1ab703da7f9c2352940fd5cfd"
      }
    },
    "colab": {
      "provenance": [],
      "include_colab_link": true
    },
    "accelerator": "GPU",
    "gpuClass": "standard"
  },
  "nbformat": 4,
  "nbformat_minor": 0
}