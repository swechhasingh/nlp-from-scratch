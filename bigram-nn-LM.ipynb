{
 "cells": [
  {
   "attachments": {},
   "cell_type": "markdown",
   "metadata": {},
   "source": [
    "### Char-level Language Modeling - Part 2\n",
    "In this series, we will be building char-level bi-gram language models:\n",
    "* ~~[Bi-gram count based language model]()~~\n",
    "* **Bi-gram neural network based language model**"
   ]
  },
  {
   "cell_type": "code",
   "execution_count": 20,
   "metadata": {},
   "outputs": [],
   "source": [
    "import torch\n",
    "import torch.nn.functional as F\n",
    "import matplotlib.pyplot as plt\n",
    "%matplotlib inline"
   ]
  },
  {
   "attachments": {},
   "cell_type": "markdown",
   "metadata": {},
   "source": [
    "We would like to formulate the bigram NN-LM as a supervised learning, given an input character, the neural network will output the next character.\\\n",
    "For this, we need a dataset of pairs of (X, y), X is input character and y is the next character (target/label)\\\n",
    "In a bigram model, X (input) will be the first character of bigram (context of one character) and y (target) will be the second character of bigram.\n",
    "\n",
    "We will be using the same [names.txt](https://github.com/karpathy/makemore/blob/master/names.txt) used in Andrej Karpathy's makemore lecture series."
   ]
  },
  {
   "cell_type": "code",
   "execution_count": 21,
   "metadata": {},
   "outputs": [],
   "source": [
    "with open(\"names.txt\",'r') as file:\n",
    "    names = file.read().splitlines()"
   ]
  },
  {
   "cell_type": "code",
   "execution_count": 22,
   "metadata": {},
   "outputs": [
    {
     "data": {
      "text/plain": [
       "['emma', 'olivia', 'ava', 'isabella', 'sophia']"
      ]
     },
     "execution_count": 22,
     "metadata": {},
     "output_type": "execute_result"
    }
   ],
   "source": [
    "names[:5]"
   ]
  },
  {
   "attachments": {},
   "cell_type": "markdown",
   "metadata": {},
   "source": [
    "#### Let's create the dataset for NN model:\n",
    "First, create character to index mapping and index to character mapping (same as bigram count model)"
   ]
  },
  {
   "cell_type": "code",
   "execution_count": 23,
   "metadata": {},
   "outputs": [
    {
     "name": "stdout",
     "output_type": "stream",
     "text": [
      "vocab_size=27 and characters in vocab: .abcdefghijklmnopqrstuvwxyz\n",
      "chartoi={'.': 0, 'a': 1, 'b': 2, 'c': 3, 'd': 4, 'e': 5, 'f': 6, 'g': 7, 'h': 8, 'i': 9, 'j': 10, 'k': 11, 'l': 12, 'm': 13, 'n': 14, 'o': 15, 'p': 16, 'q': 17, 'r': 18, 's': 19, 't': 20, 'u': 21, 'v': 22, 'w': 23, 'x': 24, 'y': 25, 'z': 26}\n",
      "itochar={0: '.', 1: 'a', 2: 'b', 3: 'c', 4: 'd', 5: 'e', 6: 'f', 7: 'g', 8: 'h', 9: 'i', 10: 'j', 11: 'k', 12: 'l', 13: 'm', 14: 'n', 15: 'o', 16: 'p', 17: 'q', 18: 'r', 19: 's', 20: 't', 21: 'u', 22: 'v', 23: 'w', 24: 'x', 25: 'y', 26: 'z'}\n"
     ]
    }
   ],
   "source": [
    "# let's create a character vocabulary for names dataset and also add \".\", the start token to the vocab\n",
    "char_vocab = ['.'] + sorted(set(\"\".join(names)))\n",
    "vocab_size = len(char_vocab)\n",
    "print(f\"{vocab_size=} and characters in vocab: {''.join(char_vocab)}\")\n",
    "\n",
    "# character to index mapping\n",
    "chartoi = {}\n",
    "# index to character mapping\n",
    "itochar = {}\n",
    "for i, c in enumerate(char_vocab):\n",
    "    chartoi[c] = i\n",
    "    itochar[i] = c\n",
    "print(f\"{chartoi=}\")\n",
    "print(f\"{itochar=}\")"
   ]
  },
  {
   "cell_type": "code",
   "execution_count": 24,
   "metadata": {},
   "outputs": [
    {
     "name": "stdout",
     "output_type": "stream",
     "text": [
      "For word '.emma.': X=[0, 5, 13, 13, 1] and y=[5, 13, 13, 1, 0]\n",
      "No. of total examples in X: 228146\n",
      "X[:10]=tensor([ 0,  5, 13, 13,  1,  0, 15, 12,  9, 22]) and y[:10]=[5, 13, 13, 1, 0, 15, 12, 9, 22, 9]\n"
     ]
    }
   ],
   "source": [
    "# compute all the bigrams for names\n",
    "X = []\n",
    "y = [] \n",
    "for i, name in enumerate(names):\n",
    "    name = '.' + name + '.'\n",
    "    for ch1, ch2 in zip(name[:-1],name[1:]):\n",
    "        X.append(chartoi[ch1])\n",
    "        y.append(chartoi[ch2])\n",
    "    if i == 0:\n",
    "        print(f\"For word '{name}': {X=} and {y=}\")\n",
    "print(f\"No. of total examples in X: {len(X)}\")\n",
    "\n",
    "X = torch.tensor(X)\n",
    "Y= torch.tensor(y)\n",
    "\n",
    "print(f\"{X[:10]=} and {y[:10]=}\")"
   ]
  },
  {
   "attachments": {},
   "cell_type": "markdown",
   "metadata": {},
   "source": [
    "Our dataset contains **228146** samples."
   ]
  },
  {
   "attachments": {},
   "cell_type": "markdown",
   "metadata": {},
   "source": [
    "Giving an integer as input to a neural network doesn't make sense, so we will convert the integer index to a one-hot vector representation. Our vocabulary has 27 (`vocab_size`) unique character, therefore we need a one-hot vector of size 27. If the character has index *i*, then the one-hot vector will have *1* at *i-th* position and all the remaining positions will be zeros."
   ]
  },
  {
   "cell_type": "code",
   "execution_count": 25,
   "metadata": {},
   "outputs": [
    {
     "data": {
      "text/plain": [
       "<matplotlib.image.AxesImage at 0x7f989261f9a0>"
      ]
     },
     "execution_count": 25,
     "metadata": {},
     "output_type": "execute_result"
    },
    {
     "data": {
      "image/png": "[encoded data removed]",
      "text/plain": [
       "<Figure size 432x288 with 1 Axes>"
      ]
     },
     "metadata": {
      "needs_background": "light"
     },
     "output_type": "display_data"
    }
   ],
   "source": [
    "# pytorch has a in-built function for one-hot representation, torch.nn.functional.one_hot(tensor, num_classes=-1)\n",
    "# convert integer to float data type for nn input\n",
    "\n",
    "X_enc = F.one_hot(X, num_classes=27).float()\n",
    "\n",
    "# visualize the one-hot representation of the inputs\n",
    "plt.imshow(X_enc[:10])"
   ]
  },
  {
   "attachments": {},
   "cell_type": "markdown",
   "metadata": {},
   "source": [
    "#### Let's define our neural network architecture: \n",
    "We will use a single linear layer of 27 (`vocab_size`) hidden units (neurons) without bias and a output softmax layer.\\\n",
    "**One hidden layer**: 27 hidden units and takes an input one-hot vector of dimension 27, so the weight matrix, W, will be of shape (27x27).\\\n",
    "**Weight initialization**: Initialize the weight matrix, W, with random numbers from a standard normal distribution with mean 0 and variance 1. If W is initialized with all zeros or with some constant $\\alpha$, then all the hidden units will learn the same features.\\\n",
    "We are using 27 hidden units (neurons), so that we can compare this W matrix with the `probs` matrix from bigram count-based LM in Part-1."
   ]
  },
  {
   "cell_type": "code",
   "execution_count": 26,
   "metadata": {},
   "outputs": [
    {
     "name": "stdout",
     "output_type": "stream",
     "text": [
      "Total number parameter in NN: 729\n"
     ]
    }
   ],
   "source": [
    "print(f\"Total number parameter in NN: {27*27}\")"
   ]
  },
  {
   "cell_type": "code",
   "execution_count": 27,
   "metadata": {},
   "outputs": [
    {
     "data": {
      "text/plain": [
       "Text(0.5, 1.0, 'W (Initialized with Std. Normal distribution)')"
      ]
     },
     "execution_count": 27,
     "metadata": {},
     "output_type": "execute_result"
    },
    {
     "data": {
      "image/png": "[encoded data removed]",
      "text/plain": [
       "<Figure size 432x288 with 1 Axes>"
      ]
     },
     "metadata": {
      "needs_background": "light"
     },
     "output_type": "display_data"
    }
   ],
   "source": [
    "# for reproduciblity of results\n",
    "g = torch.Generator().manual_seed(2147483647)\n",
    "#weight matrix (learnable weights)\n",
    "W = torch.randn((vocab_size,vocab_size), requires_grad=True, generator=g)\n",
    "\n",
    "# visualize the weight matrix = log counts, therefore we need to take exponent to compare it with `probs` table\n",
    "plt.imshow(W.exp().detach().numpy())\n",
    "plt.title(\"W (Initialized with Std. Normal distribution)\")\n",
    "# plt.axis('off');"
   ]
  },
  {
   "attachments": {},
   "cell_type": "markdown",
   "metadata": {},
   "source": [
    "After training the NN, this weight matrix visualiztion should look similar to counts matrix in bigram count-based LM.\\\n",
    "**W, weight matrix = log counts or logits**, therefore we need to take exponent to compare it with `probs` table\n",
    "#### To learn the weight matrix, W, we will use iterative gradient based optimization method like gradient descent."
   ]
  },
  {
   "cell_type": "code",
   "execution_count": 28,
   "metadata": {},
   "outputs": [
    {
     "name": "stdout",
     "output_type": "stream",
     "text": [
      "2.4901304244995117 2.4901304244995117\n"
     ]
    },
    {
     "data": {
      "text/plain": [
       "[<matplotlib.lines.Line2D at 0x7f9871313b50>]"
      ]
     },
     "execution_count": 28,
     "metadata": {},
     "output_type": "execute_result"
    },
    {
     "data": {
      "image/png": "[encoded data removed]",
      "text/plain": [
       "<Figure size 432x288 with 1 Axes>"
      ]
     },
     "metadata": {
      "needs_background": "light"
     },
     "output_type": "display_data"
    }
   ],
   "source": [
    "epochs = 100\n",
    "n_samples = X_enc.shape[0]\n",
    "# learning rate\n",
    "lr = 50\n",
    "nlls = []\n",
    "# to keep track of min nll loss\n",
    "min_nll = float('inf')\n",
    "\n",
    "for _ in range(epochs):\n",
    "    # equivalent to `torch.nn.Linear` with no bias\n",
    "    logits = X_enc @ W\n",
    "    # shape of logits = (n_samples x vocab_size)\n",
    "    # softmax layer\n",
    "    counts = logits.exp()\n",
    "    probs = counts / counts.sum(dim=-1, keepdims=True)\n",
    "    # loss (average negative log likelihood)\n",
    "    nll = -probs[torch.arange(n_samples), Y].log().mean() + 0.01*(W**2).mean()\n",
    "\n",
    "    # set gradients to zero and perform backpropagation\n",
    "    W.grad = None\n",
    "    nll.backward()\n",
    "\n",
    "    # parameter update, inplace update\n",
    "    W.data += -lr * W.grad\n",
    "\n",
    "    if nll < min_nll:\n",
    "        min_nll = nll.item()\n",
    "\n",
    "    nlls.append(nll.item())\n",
    "\n",
    "print(min_nll, nlls[-1])\n",
    "plt.plot(nlls)\n",
    "\n",
    "    "
   ]
  },
  {
   "cell_type": "code",
   "execution_count": 29,
   "metadata": {},
   "outputs": [
    {
     "data": {
      "text/plain": [
       "(tensor(3.8470, grad_fn=<MaxBackward1>),\n",
       " tensor(-2.4338, grad_fn=<MinBackward1>))"
      ]
     },
     "execution_count": 29,
     "metadata": {},
     "output_type": "execute_result"
    }
   ],
   "source": [
    "W.max(),W.min()"
   ]
  },
  {
   "attachments": {},
   "cell_type": "markdown",
   "metadata": {},
   "source": [
    "Visualize the learned weight matrix, W"
   ]
  },
  {
   "cell_type": "code",
   "execution_count": 30,
   "metadata": {},
   "outputs": [
    {
     "data": {
      "text/plain": [
       "Text(0.5, 1.0, 'W (learned weights)')"
      ]
     },
     "execution_count": 30,
     "metadata": {},
     "output_type": "execute_result"
    },
    {
     "data": {
      "image/png": "[encoded data removed]",
      "text/plain": [
       "<Figure size 432x288 with 1 Axes>"
      ]
     },
     "metadata": {
      "needs_background": "light"
     },
     "output_type": "display_data"
    }
   ],
   "source": [
    "plt.imshow(W.exp().detach().numpy())\n",
    "plt.title(\"W (learned weights)\")\n",
    "# plt.axis('off');"
   ]
  },
  {
   "attachments": {},
   "cell_type": "markdown",
   "metadata": {},
   "source": [
    "#### Generate new words using learned weight matrix, W."
   ]
  },
  {
   "cell_type": "code",
   "execution_count": 31,
   "metadata": {},
   "outputs": [
    {
     "name": "stdout",
     "output_type": "stream",
     "text": [
      "mor.\n",
      "axx.\n",
      "minaymoryles.\n",
      "kondmaisah.\n",
      "anchthizarie.\n",
      "odaren.\n",
      "iaddash.\n",
      "h.\n",
      "jionatien.\n",
      "egwver.\n"
     ]
    }
   ],
   "source": [
    "# for reproduciblity of results\n",
    "g = torch.Generator().manual_seed(2147483647)\n",
    "n = 10 # generate n words\n",
    "for i in range(n):\n",
    "    # start token (idx)\n",
    "    curr_idx = 0\n",
    "    curr_word = ''\n",
    "    while True:\n",
    "        x_enc = F.one_hot(torch.tensor([curr_idx]), num_classes=27).float()\n",
    "        logits = x_enc @ W #log counts\n",
    "        counts = logits.exp()\n",
    "        prob = counts / counts.sum(dim=-1, keepdims=True)\n",
    "        # sample index of next character\n",
    "        next_char_ix = torch.multinomial(prob, num_samples=1, replacement=True, generator=g).item()\n",
    "        curr_char = itochar[next_char_ix]\n",
    "        curr_word += curr_char\n",
    "        curr_idx = next_char_ix\n",
    "        if curr_char == '.':\n",
    "            print(curr_word)\n",
    "            break"
   ]
  },
  {
   "attachments": {},
   "cell_type": "markdown",
   "metadata": {},
   "source": [
    "Words generated by neural network LM are similar to bigram count-based LM. The next steps to further improve NN-LM would be to use non-linearity to increase model complexity and also experimenting with N-grams (longer context)."
   ]
  }
 ],
 "metadata": {
  "kernelspec": {
   "display_name": "ml_env_3.9",
   "language": "python",
   "name": "python3"
  },
  "language_info": {
   "codemirror_mode": {
    "name": "ipython",
    "version": 3
   },
   "file_extension": ".py",
   "mimetype": "text/x-python",
   "name": "python",
   "nbconvert_exporter": "python",
   "pygments_lexer": "ipython3",
   "version": "3.9.15"
  },
  "orig_nbformat": 4,
  "vscode": {
   "interpreter": {
    "hash": "02a75899b11e31bd85ccc905c76a128ad2bb11b6b68df04d39be7741d54ebc47"
   }
  }
 },
 "nbformat": 4,
 "nbformat_minor": 2
}
