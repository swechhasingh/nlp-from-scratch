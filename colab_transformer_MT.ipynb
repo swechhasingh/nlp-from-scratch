{
  "cells": [
    {
      "cell_type": "markdown",
      "metadata": {
        "id": "view-in-github",
        "colab_type": "text"
      },
      "source": [
        "<a href=\"https://colab.research.google.com/github/swechhasingh/nlp-from-scratch/blob/main/colab_transformer_MT.ipynb\" target=\"_parent\"><img src=\"https://colab.research.google.com/assets/colab-badge.svg\" alt=\"Open In Colab\"/></a>"
      ]
    },
    {
      "cell_type": "markdown",
      "metadata": {
        "id": "DUQmX6mSW3Jo"
      },
      "source": [
        "### English-French Neural Machine Translation"
      ]
    },
    {
      "cell_type": "code",
      "execution_count": null,
      "metadata": {
        "id": "eL3dE0XzW3Jp"
      },
      "outputs": [],
      "source": [
        "from __future__ import unicode_literals, print_function, division\n",
        "from io import open\n",
        "import unicodedata\n",
        "import string\n",
        "import re\n",
        "import random\n",
        "\n",
        "import torch\n",
        "import torch.nn as nn\n",
        "from torch import optim\n",
        "import torch.nn.functional as F\n",
        "from torch.optim.lr_scheduler import LambdaLR\n",
        "\n",
        "from matplotlib import pyplot as plt\n",
        "%matplotlib inline"
      ]
    },
    {
      "cell_type": "code",
      "execution_count": null,
      "metadata": {
        "colab": {
          "base_uri": "https://localhost:8080/"
        },
        "id": "Fuq5OkRCW3Jq",
        "outputId": "06dd3bc7-7fdc-44b7-844c-cf36d38f89e6"
      },
      "outputs": [
        {
          "output_type": "stream",
          "name": "stdout",
          "text": [
            "MPS not available because the current PyTorch install was not built with MPS enabled.\n"
          ]
        }
      ],
      "source": [
        "# Check that MPS is available\n",
        "if not torch.backends.mps.is_available():\n",
        "    if not torch.backends.mps.is_built():\n",
        "        print(\"MPS not available because the current PyTorch install was not \"\n",
        "              \"built with MPS enabled.\")\n",
        "    else:\n",
        "        print(\"MPS not available because the current MacOS version is not 12.3+ \"\n",
        "              \"and/or you do not have an MPS-enabled device on this machine.\")"
      ]
    },
    {
      "cell_type": "code",
      "execution_count": null,
      "metadata": {
        "colab": {
          "base_uri": "https://localhost:8080/"
        },
        "id": "sYbxTQsXW3Jq",
        "outputId": "bcfd544b-1711-4e69-84f6-10dcb1600b36"
      },
      "outputs": [
        {
          "output_type": "execute_result",
          "data": {
            "text/plain": [
              "device(type='cuda')"
            ]
          },
          "metadata": {},
          "execution_count": 3
        }
      ],
      "source": [
        "device = torch.device(\"cuda\" if torch.cuda.is_available() else \"cpu\")\n",
        "# device = torch.device(\"mps\")\n",
        "device"
      ]
    },
    {
      "cell_type": "code",
      "execution_count": null,
      "metadata": {
        "id": "pYP1gEp3W3Jr"
      },
      "outputs": [],
      "source": [
        "src_language = 'eng'\n",
        "target_language = 'fra'"
      ]
    },
    {
      "cell_type": "code",
      "execution_count": null,
      "metadata": {
        "id": "CDlbvXFbW3Jr",
        "outputId": "12bf5e4b-03b4-4a2c-a979-818741e9602f"
      },
      "outputs": [
        {
          "name": "stdout",
          "output_type": "stream",
          "text": [
            "['Go.\\tVa !', 'Run!\\tCours\\u202f!', 'Run!\\tCourez\\u202f!', 'Wow!\\tÇa alors\\u202f!', 'Fire!\\tAu feu !']\n"
          ]
        }
      ],
      "source": [
        "# Read the file and split into lines\n",
        "with open('data/%s-%s.txt' % (src_language, target_language), encoding='utf-8') as file:\n",
        "    text_data = file.read().splitlines()\n",
        "print(text_data[:5])"
      ]
    },
    {
      "cell_type": "markdown",
      "metadata": {
        "id": "JHrWihehW3Jr"
      },
      "source": [
        "The text is in Unicode. So, we will take the following preprocessing steps:\n",
        "1. Turn Unicode characters to ASCII\n",
        "2. lowercase\n",
        "3. Trim most punctuation"
      ]
    },
    {
      "cell_type": "code",
      "execution_count": null,
      "metadata": {
        "id": "zsi0BliwW3Jr"
      },
      "outputs": [],
      "source": [
        "# Turn a Unicode string to plain ASCII, thanks to\n",
        "# https://stackoverflow.com/a/518232/2809427\n",
        "def unicode_to_ascii(sent):\n",
        "    return ''.join(\n",
        "        c for c in unicodedata.normalize('NFD', sent)\n",
        "        if unicodedata.category(c) != 'Mn'\n",
        "    )\n",
        "\n",
        "def preprocess_string(sent):\n",
        "    \"lowercase, unicode_to_ascii, trim, and remove non-letter characters\"\n",
        "    sent = sent.lower().strip()\n",
        "    sent = unicode_to_ascii(sent)\n",
        "    # The backreference \\1 (backslash one) references the first capturing group. \n",
        "    # space followed by \\1 matches the exact same text that was matched by the first capturing group [.!?].\n",
        "    sent = re.sub(r\"([.!?])\", r\" \\1\", sent)\n",
        "    # replace character which are not from this set (a-zA-Z.!?) by single space character\n",
        "    sent = re.sub(r\"[^a-zA-Z.!?]+\", r\" \", sent)\n",
        "    return sent.strip()"
      ]
    },
    {
      "cell_type": "code",
      "execution_count": null,
      "metadata": {
        "id": "flDteWRLW3Js",
        "outputId": "bdde704d-fc62-4922-b72b-ff9afd3ee003"
      },
      "outputs": [
        {
          "name": "stdout",
          "output_type": "stream",
          "text": [
            "Wow!\tÇa alors !\n",
            "['Ça alors\\u202f!', 'Wow!']\n"
          ]
        }
      ],
      "source": [
        "preprocess_string(text_data[3])\n",
        "print(text_data[3])\n",
        "print(text_data[3].split('\\t')[::-1])"
      ]
    },
    {
      "cell_type": "code",
      "execution_count": null,
      "metadata": {
        "id": "HcFEWkDSW3Js"
      },
      "outputs": [],
      "source": [
        "def load_data(file_name, reverse=False):\n",
        "    print(\"Reading text file...\")\n",
        "\n",
        "    # Read the file and split into lines\n",
        "    with open('data/%s' % (file_name), encoding='utf-8') as file:\n",
        "        lines = file.read().splitlines()\n",
        "\n",
        "    # Split every line into pairs [src_lang, target_lang] and preprocess\n",
        "    pairs = [[preprocess_string(s) for s in line.split('\\t')] for line in lines]\n",
        "\n",
        "    if reverse:\n",
        "        pairs = [p[::-1] for p in pairs]\n",
        "        \n",
        "    return pairs"
      ]
    },
    {
      "cell_type": "code",
      "execution_count": null,
      "metadata": {
        "colab": {
          "base_uri": "https://localhost:8080/"
        },
        "id": "1zKwXEPCW3Js",
        "outputId": "64ff756f-af9c-4a71-9a0e-30b2745df2f3"
      },
      "outputs": [
        {
          "output_type": "stream",
          "name": "stdout",
          "text": [
            "Reading text file...\n"
          ]
        }
      ],
      "source": [
        "pairs = load_data('eng-fra.txt', reverse=False)"
      ]
    },
    {
      "cell_type": "code",
      "execution_count": null,
      "metadata": {
        "id": "tLlMKRkWW3Js"
      },
      "outputs": [],
      "source": [
        "SOS_token = 0\n",
        "EOS_token = 1\n",
        "UNK = 2\n",
        "PAD = 3\n",
        "BLOCK_SIZE = 12\n",
        "\n",
        "class Language:\n",
        "    def __init__(self, lang_name, src=True):\n",
        "        self.lang_name = lang_name\n",
        "        self.word_to_index = {\"SOS\":0, \"EOS\":1, \"UNK\": 2, \"PAD\":3}\n",
        "        self.index_to_word = {0: \"SOS\", 1: \"EOS\", 2: \"UNK\", 3:\"PAD\"}\n",
        "        self.word_to_count = {}\n",
        "        self.vocab_size = 4\n",
        "        self.src = src\n",
        "\n",
        "    def add_word(self, word):\n",
        "        if word not in self.word_to_index:\n",
        "            self.word_to_index[word] = self.vocab_size\n",
        "            self.index_to_word[self.vocab_size] = word\n",
        "            self.vocab_size += 1\n",
        "        self.word_to_count[word] = self.word_to_count.get(word, 0) + 1\n",
        "\n",
        "    def add_sentence(self, sentence):\n",
        "        for word in sentence.split(' '):\n",
        "            self.add_word(word)\n",
        "\n",
        "    def sentence_to_indexes(self, sentence):\n",
        "        idxs = [self.word_to_index[word] if word in self.word_to_index else self.word_to_index[\"UNK\"] for word in sentence.split(' ')]\n",
        "        return idxs\n",
        "        \n",
        "    def indexes_to_sentence(self, indexes):\n",
        "        return ' '.join([self.index_to_word[index] for index in indexes])\n",
        "\n",
        "    def sentence_to_tensor(self, sentence):\n",
        "        indexes = self.sentence_to_indexes(sentence)\n",
        "        indexes = [SOS_token] + indexes + [EOS_token]\n",
        "\n",
        "        max_len = BLOCK_SIZE if self.src else BLOCK_SIZE + 1\n",
        "        \n",
        "        if len(indexes) < max_len:\n",
        "            indexes += [PAD]*(max_len-len(indexes))\n",
        "        else:\n",
        "            indexes = indexes[:max_len]\n",
        "            \n",
        "        indexes = torch.tensor(indexes, dtype=torch.long)\n",
        "        return indexes\n",
        "\n",
        "    def tensor_to_sentence(self, idx_tensor):\n",
        "        if len(idx_tensor.shape) > 1:\n",
        "            idxs = idx_tensor.tolist()[0]\n",
        "        else:\n",
        "            idxs = idx_tensor.tolist()\n",
        "        sentence = self.indexes_to_sentence(idxs)\n",
        "        return sentence"
      ]
    },
    {
      "cell_type": "code",
      "execution_count": null,
      "metadata": {
        "id": "CO2pdabRW3Jt"
      },
      "outputs": [],
      "source": [
        "# create language instances\n",
        "src_lang = Language(src_language)\n",
        "target_lang = Language(target_language)\n",
        "\n",
        "for src, target in pairs:\n",
        "    src_lang.add_sentence(src)\n",
        "    target_lang.add_sentence(target) "
      ]
    },
    {
      "cell_type": "markdown",
      "metadata": {
        "id": "6nZesrsgW3Jt"
      },
      "source": [
        "Since there are a lot of example sentences and we want to train something quickly, we’ll trim the data set to only relatively short and simple sentences. Here the maximum length is 10 words (that includes ending punctuation) and we’re filtering to sentences that translate to the form “I am” or “He is” etc. (accounting for apostrophes replaced earlier)."
      ]
    },
    {
      "cell_type": "markdown",
      "metadata": {
        "id": "wYDeVCulW3Jt"
      },
      "source": []
    },
    {
      "cell_type": "code",
      "execution_count": null,
      "metadata": {
        "id": "WXLu25TjW3Jt"
      },
      "outputs": [],
      "source": [
        "MAX_LENGTH = 10\n",
        "\n",
        "eng_prefixes = (\n",
        "    \"i am \", \"i m \",\n",
        "    \"he is\", \"he s \",\n",
        "    \"she is\", \"she s \",\n",
        "    \"you are\", \"you re \",\n",
        "    \"we are\", \"we re \",\n",
        "    \"they are\", \"they re \"\n",
        ")\n",
        "\n",
        "\n",
        "def filterPair(p, reverse=False):\n",
        "    return len(p[0].split(' ')) < MAX_LENGTH and \\\n",
        "        len(p[1].split(' ')) < MAX_LENGTH and \\\n",
        "        p[1 if reverse else 0].startswith(eng_prefixes)\n",
        "\n",
        "\n",
        "def filterPairs(pairs, reverse):\n",
        "    return [pair for pair in pairs if filterPair(pair, reverse)]"
      ]
    },
    {
      "cell_type": "markdown",
      "metadata": {
        "id": "j0cyjbJEW3Jt"
      },
      "source": [
        "The full process for preparing the data is:\n",
        "\n",
        "Read text file and split into lines, split lines into pairs\n",
        "\n",
        "Normalize text, filter by length and content\n",
        "\n",
        "Make word lists from sentences in pairs"
      ]
    },
    {
      "cell_type": "code",
      "execution_count": null,
      "metadata": {
        "id": "nqu3b83qW3Jt"
      },
      "outputs": [],
      "source": [
        "def create_dataset(src_lang, target_lang, reverse=False):\n",
        "    pairs = load_data('eng-fra.txt', reverse)\n",
        "\n",
        "    # create language instances\n",
        "    input_lang = Language(src_lang)\n",
        "    output_lang = Language(target_lang, src=False)\n",
        "\n",
        "    print(\"Read %s sentence pairs\" % len(pairs))\n",
        "\n",
        "    pairs = filterPairs(pairs, reverse)\n",
        "    print(\"Trimmed to %s sentence pairs\" % len(pairs))\n",
        "\n",
        "    # train/val/test split\n",
        "    n_total = len(pairs)\n",
        "    n_train = int(0.8*n_total)\n",
        "    n_val = int(0.1*n_total)\n",
        "    n_test = n_total - n_train - n_val\n",
        "    print(f\"{n_train=}, {n_val=}, {n_test=}\")\n",
        "    pair_split = {}\n",
        "    pair_split['train'] = pairs[:n_train]\n",
        "    pair_split['val'] = pairs[n_train:n_train + n_val]\n",
        "    pair_split['test'] = pairs[n_train + n_val:]\n",
        "    \n",
        "    print(\"Counting words...\")\n",
        "    print(\"Creating source and target language vocab using pair_split['train']...\")\n",
        "    for src, target in pair_split['train']:\n",
        "        input_lang.add_sentence(src)\n",
        "        output_lang.add_sentence(target) \n",
        "\n",
        "    print(\"Counted words:\")\n",
        "    print(input_lang.lang_name, input_lang.vocab_size)\n",
        "    print(output_lang.lang_name, output_lang.vocab_size)\n",
        "    return input_lang, output_lang, pair_split"
      ]
    },
    {
      "cell_type": "code",
      "execution_count": null,
      "metadata": {
        "colab": {
          "base_uri": "https://localhost:8080/"
        },
        "id": "nk-EpzmlW3Ju",
        "outputId": "57128002-1793-4904-a2fc-cc213c1c63de"
      },
      "outputs": [
        {
          "output_type": "stream",
          "name": "stdout",
          "text": [
            "Reading text file...\n",
            "Read 135842 sentence pairs\n",
            "Trimmed to 10599 sentence pairs\n",
            "n_train=8479, n_val=1059, n_test=1061\n",
            "Counting words...\n",
            "Creating source and target language vocab using pair_split['train']...\n",
            "Counted words:\n",
            "eng 2184\n",
            "fra 3526\n",
            "['you re silly .', 'vous etes idiots .']\n"
          ]
        }
      ],
      "source": [
        "src_lang, target_lang, pair_split = create_dataset('eng', 'fra', reverse=False)\n",
        "print(random.choice(pair_split[\"train\"]))"
      ]
    },
    {
      "cell_type": "markdown",
      "metadata": {
        "id": "dopRngz7W3Ju"
      },
      "source": [
        "#### Tokenization: Words to indexes\n",
        "In seq2seq task takes an input sequence (source seq) and outputs another sequence (target seq). In our case, we have an input sentence in English language and a corresponding translated sentence in French language. These sentence need to converted into numbers (integers) to be able to into to a neural network. For this, we will use **word-level tokenization**, i.e *word to integer* index mapping.\n",
        "\n",
        "We need some special tokens to indicate start (SOS) and end (EOS) of a sentence. For the input sequence (source seq), the model needs to know when the input has ended and for the target sequence, the model needs to know when to start and when to end.\n",
        "\n",
        "So, we will append the EOS token to the end of input sentence and wrap the target sentence by SOS (in the beginning) and the EOS (in the end) tokens."
      ]
    },
    {
      "cell_type": "code",
      "execution_count": null,
      "metadata": {
        "id": "H_1q9Ph9W3Ju"
      },
      "outputs": [],
      "source": [
        "\n",
        "def sent_pair_to_tensor_pair(pair, src_lang, target_lang):\n",
        "    input_tensor = src_lang.sentence_to_tensor(pair[0])\n",
        "    target_tensor = target_lang.sentence_to_tensor(pair[1])\n",
        "    return input_tensor, target_tensor\n",
        "\n",
        "def tensor_pair_to_sent_pair(pair, src_lang, target_lang):\n",
        "    input_tensor = src_lang.tensor_to_sentence(pair[0])\n",
        "    target_tensor = target_lang.tensor_to_sentence(pair[1])\n",
        "    return (input_tensor, target_tensor)"
      ]
    },
    {
      "cell_type": "code",
      "execution_count": null,
      "metadata": {
        "colab": {
          "base_uri": "https://localhost:8080/"
        },
        "id": "hqfYklMAW3Ju",
        "outputId": "ab670087-b37b-4a3b-9038-1430e30e5059"
      },
      "outputs": [
        {
          "output_type": "stream",
          "name": "stdout",
          "text": [
            "['they re all fake .', 'ils sont tous faux .']\n",
            "(tensor([  0, 223,  80, 157, 809,   6,   1,   3,   3,   3,   3,   3]), tensor([   0,  350,  351,  547, 1465,    7,    1,    3,    3,    3,    3,    3,\n",
            "           3]))\n",
            "(tensor([  0, 223,  80, 157, 809,   6,   1,   3,   3,   3,   3,   3]), tensor([   0,  350,  351,  547, 1465,    7,    1,    3,    3,    3,    3,    3,\n",
            "           3]))\n",
            "('SOS they re all fake . EOS PAD PAD PAD PAD PAD', 'SOS ils sont tous faux . EOS PAD PAD PAD PAD PAD PAD')\n"
          ]
        }
      ],
      "source": [
        "pair = random.choices(pair_split[\"train\"], k=1)[0]\n",
        "print(pair)\n",
        "print(sent_pair_to_tensor_pair(pair, src_lang, target_lang))\n",
        "print(sent_pair_to_tensor_pair(pair, src_lang, target_lang))\n",
        "\n",
        "p1, p2 = sent_pair_to_tensor_pair(pair, src_lang, target_lang)\n",
        "print(tensor_pair_to_sent_pair((p1,p2), src_lang, target_lang))"
      ]
    },
    {
      "cell_type": "code",
      "execution_count": null,
      "metadata": {
        "id": "wkucay4VW3Ju"
      },
      "outputs": [],
      "source": [
        "class Batch:\n",
        "    def __init__(self, src, target=None, pad_idx=2) -> None:\n",
        "        # src and target sequences have same length\n",
        "        self.src = src #shape:(B,T)\n",
        "        # src_mask:(B,1,1,T)\n",
        "        self.src_mask = (src != pad_idx).unsqueeze(-2).unsqueeze(-2)\n",
        "        if target is not None:\n",
        "            # decoder output shifted by one\n",
        "            self.tgt = target[:,:-1] #shape:(B,T)\n",
        "            self.tgt_y = target[:,1:]\n",
        "            # padding mask: (B,T)\n",
        "            self.tgt_pad_mask = (self.tgt_y != pad_idx)\n",
        "            self.tgt_mask = self.causal_mask(self.tgt, pad_idx)\n",
        "            self.n_tokens = self.tgt_pad_mask.sum().item()\n",
        "\n",
        "    @staticmethod   \n",
        "    def causal_mask(target, pad_idx):\n",
        "        # max context length = block_size\n",
        "        T = target.shape[1]\n",
        "        # causal attention mask: (1,T,T)\n",
        "        causal_attn_mask = torch.tril(torch.ones(1, T, T, dtype=torch.bool, device=target.device))\n",
        "        # padding mask: (B,1,T)\n",
        "        tgt_pad_mask = (target != pad_idx).unsqueeze(-2)\n",
        "        target_mask = tgt_pad_mask & causal_attn_mask\n",
        "        return target_mask.unsqueeze(1) # (B,1,T,T)\n",
        "\n",
        "        \n",
        "def build_batch(split, batch_size=4):\n",
        "    if split == \"train\":\n",
        "        pairs = pair_split[\"train\"]\n",
        "    elif split == \"val\":\n",
        "        pairs = pair_split[\"val\"]\n",
        "    else:\n",
        "        pairs = pair_split[\"test\"]\n",
        "    # randomly (uniformly) sample a start index for a sentence of length block_size\n",
        "    # number of sequences in a batch is batch_size\n",
        "    batch_pairs = random.choices(pairs, k=batch_size)\n",
        "    # input \n",
        "    src_batch = []\n",
        "    target_batch = []\n",
        "    \n",
        "    for pair in batch_pairs:\n",
        "        src_tensor, target_tensor = sent_pair_to_tensor_pair(pair, src_lang, target_lang)\n",
        "        src_batch.append(src_tensor)\n",
        "        target_batch.append(target_tensor)\n",
        "    \n",
        "    src = torch.stack(src_batch).to(device)\n",
        "    target = torch.stack(target_batch).to(device)\n",
        "\n",
        "    batch = Batch(src, target, PAD)\n",
        "    return batch"
      ]
    },
    {
      "cell_type": "code",
      "execution_count": null,
      "metadata": {
        "id": "q3ptKYyQW3Ju"
      },
      "outputs": [],
      "source": [
        "b = build_batch(\"train\", batch_size=2)"
      ]
    },
    {
      "cell_type": "code",
      "execution_count": null,
      "metadata": {
        "colab": {
          "base_uri": "https://localhost:8080/"
        },
        "id": "RfMMifvOW3Ju",
        "outputId": "888909a3-e713-430a-9b2f-3250c4a994b3"
      },
      "outputs": [
        {
          "output_type": "stream",
          "name": "stdout",
          "text": [
            "SOS you are a bit fat . EOS PAD PAD PAD PAD\n",
            "SOS tu es un peu gras . EOS PAD PAD PAD PAD\n",
            "tu es un peu gras . EOS PAD PAD PAD PAD PAD\n"
          ]
        }
      ],
      "source": [
        "print(src_lang.tensor_to_sentence(b.src))\n",
        "print(target_lang.tensor_to_sentence(b.tgt))\n",
        "print(target_lang.tensor_to_sentence(b.tgt_y))"
      ]
    },
    {
      "cell_type": "markdown",
      "metadata": {
        "id": "TTUpb-xMW3Jv"
      },
      "source": [
        "#### Seq2Seq English-French Machine Translation Transformer Model"
      ]
    },
    {
      "cell_type": "markdown",
      "metadata": {
        "id": "uDoThXdUW3Jv"
      },
      "source": []
    },
    {
      "cell_type": "code",
      "execution_count": null,
      "metadata": {
        "id": "-neO0ibaW3Jv"
      },
      "outputs": [],
      "source": [
        "import sys\n",
        "sys.path.append(\"../\")\n",
        "from transformers.transformer import EncDecTransformer\n"
      ]
    },
    {
      "cell_type": "code",
      "execution_count": null,
      "metadata": {
        "id": "wlLHA3R5W3Jv"
      },
      "outputs": [],
      "source": [
        "# model hyperparameters\n",
        "model_hyparam = {\n",
        "    \"src_vocab_size\": src_lang.vocab_size,\n",
        "    \"tgt_vocab_size\": target_lang.vocab_size,\n",
        "    \"block_size\": BLOCK_SIZE,\n",
        "    \"model_dim\": 128,\n",
        "    \"n_layer\": 4,\n",
        "    \"n_head\": 4,\n",
        "    \"cross_attention\":True\n",
        "}"
      ]
    },
    {
      "cell_type": "code",
      "execution_count": null,
      "metadata": {
        "colab": {
          "base_uri": "https://localhost:8080/"
        },
        "id": "asx7K1LUW3Jv",
        "outputId": "54b490c8-1249-4777-cc8b-315da4586112"
      },
      "outputs": [
        {
          "output_type": "execute_result",
          "data": {
            "text/plain": [
              "<__main__.Batch at 0x7ff22f2d4760>"
            ]
          },
          "metadata": {},
          "execution_count": 22
        }
      ],
      "source": [
        "batch = build_batch(\"train\", batch_size=4)\n",
        "batch"
      ]
    },
    {
      "cell_type": "code",
      "execution_count": null,
      "metadata": {
        "id": "QPl4Tp59W3Jv"
      },
      "outputs": [],
      "source": [
        "# training hyperparameters\n",
        "batch_size = 16\n",
        "n_iters = 2000\n",
        "eval_interval = 10\n",
        "base_lr = 1.0\n",
        "eval_iters = 100\n",
        "warmup_steps = 40"
      ]
    },
    {
      "cell_type": "markdown",
      "metadata": {
        "id": "Wn-lvaaXW3Jv"
      },
      "source": [
        "Vary the learning rate over the course of training, according to the formula:<br>\n",
        "<br>\n",
        "$lr = {d_{model}}^{-0.5}*\\min({step\\_num}^{-0.5}, step\\_num * {warmup\\_steps}^{-1.5})$\n",
        "<br>\n",
        "This corresponds to increasing the learning rate linearly for the first $warmup\\_steps$ training steps, and decreasing it thereafter proportionally to the inverse square root of the step number. "
      ]
    },
    {
      "cell_type": "code",
      "execution_count": null,
      "metadata": {
        "id": "34gGxu3DW3Jv"
      },
      "outputs": [],
      "source": [
        "def learning_rate(step, model_size, factor, warmup):\n",
        "    # default the step to 1 for LambdaLR function to avoid zero raising to negative power\n",
        "    if step == 0:\n",
        "        step = 1\n",
        "    return factor * (\n",
        "        model_size ** (-0.5) * min(step ** (-0.5), step * warmup ** (-1.5))\n",
        "    )"
      ]
    },
    {
      "cell_type": "code",
      "execution_count": null,
      "metadata": {
        "colab": {
          "base_uri": "https://localhost:8080/"
        },
        "id": "s3ZK-uzrW3Jv",
        "outputId": "bfc065c2-bea0-41bf-9f55-d3dd7345f0dc"
      },
      "outputs": [
        {
          "output_type": "stream",
          "name": "stdout",
          "text": [
            "3.039174 M parameters\n"
          ]
        }
      ],
      "source": [
        "mt_transformer = EncDecTransformer(**model_hyparam).to(device)\n",
        "optimizer = torch.optim.AdamW(mt_transformer.parameters(), base_lr, betas=(0.9, 0.98), eps=1e-9)\n",
        "lr_scheduler = LambdaLR(optimizer, lr_lambda=lambda step: learning_rate(step, \n",
        "                                                                        model_hyparam[\"model_dim\"], \n",
        "                                                                        factor=1, warmup=warmup_steps))\n",
        "\n",
        "# print the number of parameters in the model\n",
        "print(sum(p.numel() for p in mt_transformer.parameters())/1e6, 'M parameters')"
      ]
    },
    {
      "cell_type": "code",
      "execution_count": null,
      "metadata": {
        "colab": {
          "base_uri": "https://localhost:8080/"
        },
        "id": "S9R5ldo1W3Jv",
        "outputId": "b3faaf53-89ca-4c66-cdb1-83b0481c8bfb"
      },
      "outputs": [
        {
          "output_type": "execute_result",
          "data": {
            "text/plain": [
              "{'train': 0.07729663540734649, 'val': 0.06238006488096912}"
            ]
          },
          "metadata": {},
          "execution_count": 26
        }
      ],
      "source": [
        "@torch.no_grad()\n",
        "def compute_loss():\n",
        "    mt_transformer.eval()\n",
        "    out_loss = {}\n",
        "    for split in [\"train\", \"val\"]:\n",
        "        running_loss = 0.0\n",
        "        total_tokens = 0\n",
        "        for _ in range(eval_iters):\n",
        "            batch = build_batch(split, batch_size)\n",
        "            _, loss = mt_transformer(batch.src, \n",
        "                                batch.src_mask,\n",
        "                                batch.tgt,\n",
        "                                batch.tgt_mask,\n",
        "                                batch.tgt_y,\n",
        "                                batch.tgt_pad_mask)\n",
        "            running_loss += loss.item()\n",
        "            total_tokens += batch.n_tokens\n",
        "        out_loss[split] = running_loss/total_tokens\n",
        "    mt_transformer.train()\n",
        "    return out_loss\n",
        "compute_loss()"
      ]
    },
    {
      "cell_type": "code",
      "execution_count": null,
      "metadata": {
        "id": "eXPEDLVvW3Jw"
      },
      "outputs": [],
      "source": [
        "# training loop\n",
        "def train():\n",
        "    train_losses = []\n",
        "    val_losses = []\n",
        "    min_val_loss = float('inf')\n",
        "    for iter in range(n_iters):\n",
        "        mt_transformer.train()\n",
        "        batch = build_batch(\"train\", batch_size)\n",
        "        _, loss = mt_transformer(batch.src, \n",
        "                                    batch.src_mask,\n",
        "                                    batch.tgt,\n",
        "                                    batch.tgt_mask,\n",
        "                                    batch.tgt_y,\n",
        "                                    batch.tgt_pad_mask)\n",
        "        optimizer.zero_grad(set_to_none=True)\n",
        "        loss.backward()\n",
        "        optimizer.step()\n",
        "        lr_scheduler.step()\n",
        "        \n",
        "        if iter % eval_interval == 0 or iter == n_iters - 1:\n",
        "            losses = compute_loss()\n",
        "            train_losses.append(losses['train'])\n",
        "            val_losses.append(losses['val'])\n",
        "            print(f\"step {iter}: train loss {losses['train']:.4f}, val loss {losses['val']:.4f}\")\n",
        "            # save model checkpoint\n",
        "            if val_losses[-1] < min_val_loss:\n",
        "                min_val_loss = val_losses[-1]\n",
        "                torch.save(mt_transformer.state_dict(), \"mt_transformer.pt\")\n",
        "    return train_losses, val_losses"
      ]
    },
    {
      "cell_type": "code",
      "source": [
        "train_losses, val_losses = train()"
      ],
      "metadata": {
        "colab": {
          "base_uri": "https://localhost:8080/"
        },
        "id": "FXPJCbHjY8Hp",
        "outputId": "c6de41ac-8f90-4724-a7d5-9b1d95b66561"
      },
      "execution_count": null,
      "outputs": [
        {
          "output_type": "stream",
          "name": "stdout",
          "text": [
            "step 0: train loss 0.0742, val loss 0.0602\n",
            "step 10: train loss 0.0426, val loss 0.0398\n",
            "step 20: train loss 0.0354, val loss 0.0359\n",
            "step 30: train loss 0.0352, val loss 0.0364\n",
            "step 40: train loss 0.0342, val loss 0.0355\n",
            "step 50: train loss 0.0337, val loss 0.0353\n",
            "step 60: train loss 0.0328, val loss 0.0348\n",
            "step 70: train loss 0.0313, val loss 0.0336\n",
            "step 80: train loss 0.0304, val loss 0.0335\n",
            "step 90: train loss 0.0301, val loss 0.0334\n",
            "step 100: train loss 0.0298, val loss 0.0326\n",
            "step 110: train loss 0.0300, val loss 0.0325\n",
            "step 120: train loss 0.0293, val loss 0.0325\n",
            "step 130: train loss 0.0302, val loss 0.0320\n",
            "step 140: train loss 0.0291, val loss 0.0323\n",
            "step 150: train loss 0.0285, val loss 0.0315\n",
            "step 160: train loss 0.0285, val loss 0.0323\n",
            "step 170: train loss 0.0281, val loss 0.0315\n",
            "step 180: train loss 0.0279, val loss 0.0314\n",
            "step 190: train loss 0.0283, val loss 0.0321\n",
            "step 200: train loss 0.0279, val loss 0.0317\n",
            "step 210: train loss 0.0282, val loss 0.0312\n",
            "step 220: train loss 0.0278, val loss 0.0310\n",
            "step 230: train loss 0.0273, val loss 0.0311\n",
            "step 240: train loss 0.0274, val loss 0.0314\n",
            "step 250: train loss 0.0271, val loss 0.0321\n",
            "step 260: train loss 0.0271, val loss 0.0312\n",
            "step 270: train loss 0.0267, val loss 0.0309\n",
            "step 280: train loss 0.0272, val loss 0.0311\n",
            "step 290: train loss 0.0270, val loss 0.0307\n",
            "step 300: train loss 0.0272, val loss 0.0320\n",
            "step 310: train loss 0.0273, val loss 0.0323\n",
            "step 320: train loss 0.0270, val loss 0.0317\n",
            "step 330: train loss 0.0266, val loss 0.0310\n",
            "step 340: train loss 0.0263, val loss 0.0302\n",
            "step 350: train loss 0.0268, val loss 0.0309\n",
            "step 360: train loss 0.0259, val loss 0.0312\n",
            "step 370: train loss 0.0257, val loss 0.0312\n",
            "step 380: train loss 0.0262, val loss 0.0307\n",
            "step 390: train loss 0.0263, val loss 0.0302\n",
            "step 400: train loss 0.0259, val loss 0.0303\n",
            "step 410: train loss 0.0255, val loss 0.0304\n",
            "step 420: train loss 0.0256, val loss 0.0301\n",
            "step 430: train loss 0.0256, val loss 0.0298\n",
            "step 440: train loss 0.0253, val loss 0.0302\n",
            "step 450: train loss 0.0251, val loss 0.0307\n",
            "step 460: train loss 0.0249, val loss 0.0303\n",
            "step 470: train loss 0.0250, val loss 0.0310\n",
            "step 480: train loss 0.0251, val loss 0.0304\n",
            "step 490: train loss 0.0247, val loss 0.0300\n",
            "step 500: train loss 0.0251, val loss 0.0297\n",
            "step 510: train loss 0.0247, val loss 0.0306\n",
            "step 520: train loss 0.0247, val loss 0.0307\n",
            "step 530: train loss 0.0248, val loss 0.0304\n",
            "step 540: train loss 0.0249, val loss 0.0307\n",
            "step 550: train loss 0.0247, val loss 0.0305\n",
            "step 560: train loss 0.0246, val loss 0.0310\n",
            "step 570: train loss 0.0246, val loss 0.0300\n",
            "step 580: train loss 0.0242, val loss 0.0295\n",
            "step 590: train loss 0.0245, val loss 0.0302\n",
            "step 600: train loss 0.0239, val loss 0.0300\n",
            "step 610: train loss 0.0244, val loss 0.0297\n",
            "step 620: train loss 0.0245, val loss 0.0302\n",
            "step 630: train loss 0.0246, val loss 0.0304\n",
            "step 640: train loss 0.0238, val loss 0.0303\n",
            "step 650: train loss 0.0240, val loss 0.0301\n",
            "step 660: train loss 0.0238, val loss 0.0300\n",
            "step 670: train loss 0.0235, val loss 0.0296\n",
            "step 680: train loss 0.0237, val loss 0.0296\n",
            "step 690: train loss 0.0238, val loss 0.0302\n",
            "step 700: train loss 0.0241, val loss 0.0298\n",
            "step 710: train loss 0.0232, val loss 0.0292\n",
            "step 720: train loss 0.0246, val loss 0.0295\n",
            "step 730: train loss 0.0238, val loss 0.0304\n",
            "step 740: train loss 0.0234, val loss 0.0294\n",
            "step 750: train loss 0.0231, val loss 0.0292\n",
            "step 760: train loss 0.0236, val loss 0.0291\n",
            "step 770: train loss 0.0230, val loss 0.0294\n",
            "step 780: train loss 0.0233, val loss 0.0291\n",
            "step 790: train loss 0.0234, val loss 0.0296\n",
            "step 800: train loss 0.0229, val loss 0.0293\n",
            "step 810: train loss 0.0233, val loss 0.0290\n",
            "step 820: train loss 0.0229, val loss 0.0290\n",
            "step 830: train loss 0.0225, val loss 0.0294\n",
            "step 840: train loss 0.0229, val loss 0.0289\n",
            "step 850: train loss 0.0226, val loss 0.0297\n",
            "step 860: train loss 0.0229, val loss 0.0288\n",
            "step 870: train loss 0.0228, val loss 0.0295\n",
            "step 880: train loss 0.0222, val loss 0.0291\n",
            "step 890: train loss 0.0220, val loss 0.0295\n",
            "step 900: train loss 0.0224, val loss 0.0297\n",
            "step 910: train loss 0.0222, val loss 0.0291\n",
            "step 920: train loss 0.0221, val loss 0.0294\n",
            "step 930: train loss 0.0224, val loss 0.0293\n",
            "step 940: train loss 0.0227, val loss 0.0293\n",
            "step 950: train loss 0.0224, val loss 0.0288\n",
            "step 960: train loss 0.0221, val loss 0.0288\n",
            "step 970: train loss 0.0219, val loss 0.0285\n",
            "step 980: train loss 0.0219, val loss 0.0286\n",
            "step 990: train loss 0.0220, val loss 0.0284\n",
            "step 1000: train loss 0.0218, val loss 0.0289\n",
            "step 1010: train loss 0.0218, val loss 0.0294\n",
            "step 1020: train loss 0.0221, val loss 0.0291\n",
            "step 1030: train loss 0.0224, val loss 0.0291\n",
            "step 1040: train loss 0.0219, val loss 0.0293\n",
            "step 1050: train loss 0.0216, val loss 0.0294\n",
            "step 1060: train loss 0.0219, val loss 0.0288\n",
            "step 1070: train loss 0.0218, val loss 0.0286\n",
            "step 1080: train loss 0.0217, val loss 0.0288\n",
            "step 1090: train loss 0.0216, val loss 0.0291\n",
            "step 1100: train loss 0.0218, val loss 0.0284\n",
            "step 1110: train loss 0.0214, val loss 0.0287\n",
            "step 1120: train loss 0.0219, val loss 0.0289\n",
            "step 1130: train loss 0.0216, val loss 0.0291\n",
            "step 1140: train loss 0.0213, val loss 0.0284\n",
            "step 1150: train loss 0.0211, val loss 0.0287\n",
            "step 1160: train loss 0.0217, val loss 0.0284\n",
            "step 1170: train loss 0.0212, val loss 0.0286\n",
            "step 1180: train loss 0.0211, val loss 0.0288\n",
            "step 1190: train loss 0.0213, val loss 0.0286\n",
            "step 1200: train loss 0.0214, val loss 0.0287\n",
            "step 1210: train loss 0.0212, val loss 0.0287\n",
            "step 1220: train loss 0.0207, val loss 0.0284\n",
            "step 1230: train loss 0.0213, val loss 0.0285\n",
            "step 1240: train loss 0.0208, val loss 0.0284\n",
            "step 1250: train loss 0.0205, val loss 0.0282\n",
            "step 1260: train loss 0.0210, val loss 0.0287\n",
            "step 1270: train loss 0.0211, val loss 0.0286\n",
            "step 1280: train loss 0.0211, val loss 0.0286\n",
            "step 1290: train loss 0.0207, val loss 0.0285\n",
            "step 1300: train loss 0.0213, val loss 0.0291\n",
            "step 1310: train loss 0.0210, val loss 0.0283\n",
            "step 1320: train loss 0.0208, val loss 0.0282\n",
            "step 1330: train loss 0.0213, val loss 0.0293\n",
            "step 1340: train loss 0.0207, val loss 0.0283\n",
            "step 1350: train loss 0.0210, val loss 0.0282\n",
            "step 1360: train loss 0.0205, val loss 0.0284\n",
            "step 1370: train loss 0.0207, val loss 0.0279\n",
            "step 1380: train loss 0.0207, val loss 0.0284\n",
            "step 1390: train loss 0.0205, val loss 0.0287\n",
            "step 1400: train loss 0.0206, val loss 0.0286\n",
            "step 1410: train loss 0.0205, val loss 0.0284\n",
            "step 1420: train loss 0.0204, val loss 0.0281\n",
            "step 1430: train loss 0.0206, val loss 0.0286\n",
            "step 1440: train loss 0.0206, val loss 0.0284\n",
            "step 1450: train loss 0.0205, val loss 0.0283\n",
            "step 1460: train loss 0.0204, val loss 0.0280\n",
            "step 1470: train loss 0.0205, val loss 0.0283\n",
            "step 1480: train loss 0.0207, val loss 0.0282\n",
            "step 1490: train loss 0.0200, val loss 0.0277\n",
            "step 1500: train loss 0.0206, val loss 0.0278\n",
            "step 1510: train loss 0.0201, val loss 0.0275\n",
            "step 1520: train loss 0.0208, val loss 0.0279\n",
            "step 1530: train loss 0.0207, val loss 0.0283\n",
            "step 1540: train loss 0.0202, val loss 0.0282\n",
            "step 1550: train loss 0.0205, val loss 0.0279\n",
            "step 1560: train loss 0.0205, val loss 0.0281\n",
            "step 1570: train loss 0.0200, val loss 0.0282\n",
            "step 1580: train loss 0.0204, val loss 0.0276\n",
            "step 1590: train loss 0.0207, val loss 0.0283\n",
            "step 1600: train loss 0.0201, val loss 0.0286\n",
            "step 1610: train loss 0.0201, val loss 0.0284\n",
            "step 1620: train loss 0.0202, val loss 0.0280\n",
            "step 1630: train loss 0.0204, val loss 0.0283\n",
            "step 1640: train loss 0.0200, val loss 0.0276\n",
            "step 1650: train loss 0.0202, val loss 0.0279\n",
            "step 1660: train loss 0.0200, val loss 0.0284\n",
            "step 1670: train loss 0.0198, val loss 0.0281\n",
            "step 1680: train loss 0.0199, val loss 0.0284\n",
            "step 1690: train loss 0.0198, val loss 0.0283\n",
            "step 1700: train loss 0.0197, val loss 0.0282\n",
            "step 1710: train loss 0.0197, val loss 0.0285\n",
            "step 1720: train loss 0.0200, val loss 0.0277\n",
            "step 1730: train loss 0.0196, val loss 0.0280\n",
            "step 1740: train loss 0.0198, val loss 0.0276\n",
            "step 1750: train loss 0.0199, val loss 0.0279\n",
            "step 1760: train loss 0.0199, val loss 0.0280\n",
            "step 1770: train loss 0.0195, val loss 0.0278\n",
            "step 1780: train loss 0.0197, val loss 0.0284\n",
            "step 1790: train loss 0.0198, val loss 0.0285\n",
            "step 1800: train loss 0.0196, val loss 0.0277\n",
            "step 1810: train loss 0.0197, val loss 0.0285\n",
            "step 1820: train loss 0.0199, val loss 0.0282\n",
            "step 1830: train loss 0.0196, val loss 0.0284\n",
            "step 1840: train loss 0.0197, val loss 0.0281\n",
            "step 1850: train loss 0.0200, val loss 0.0287\n",
            "step 1860: train loss 0.0201, val loss 0.0274\n",
            "step 1870: train loss 0.0197, val loss 0.0278\n",
            "step 1880: train loss 0.0192, val loss 0.0274\n",
            "step 1890: train loss 0.0195, val loss 0.0280\n",
            "step 1900: train loss 0.0197, val loss 0.0278\n",
            "step 1910: train loss 0.0194, val loss 0.0281\n",
            "step 1920: train loss 0.0193, val loss 0.0286\n",
            "step 1930: train loss 0.0190, val loss 0.0277\n",
            "step 1940: train loss 0.0197, val loss 0.0281\n",
            "step 1950: train loss 0.0193, val loss 0.0277\n",
            "step 1960: train loss 0.0191, val loss 0.0279\n",
            "step 1970: train loss 0.0190, val loss 0.0284\n",
            "step 1980: train loss 0.0192, val loss 0.0275\n",
            "step 1990: train loss 0.0191, val loss 0.0274\n",
            "step 1999: train loss 0.0192, val loss 0.0278\n"
          ]
        }
      ]
    },
    {
      "cell_type": "code",
      "execution_count": null,
      "metadata": {
        "colab": {
          "base_uri": "https://localhost:8080/"
        },
        "id": "4sguMZWeW3Jw",
        "outputId": "dfb268ca-aab8-4513-b4e0-609740e8dc8c"
      },
      "outputs": [
        {
          "output_type": "execute_result",
          "data": {
            "text/plain": [
              "(0.019216531409506687, 0.027812004687292453)"
            ]
          },
          "metadata": {},
          "execution_count": 30
        }
      ],
      "source": [
        "train_losses[-1], val_losses[-1]"
      ]
    },
    {
      "cell_type": "code",
      "execution_count": null,
      "metadata": {
        "colab": {
          "base_uri": "https://localhost:8080/",
          "height": 283
        },
        "id": "ENVenv5YW3Jw",
        "outputId": "2b9191fd-f4d2-49d6-cb4c-6f1f25a858d3"
      },
      "outputs": [
        {
          "output_type": "execute_result",
          "data": {
            "text/plain": [
              "<matplotlib.legend.Legend at 0x7ff22aef5a30>"
            ]
          },
          "metadata": {},
          "execution_count": 31
        },
        {
          "output_type": "display_data",
          "data": {
            "text/plain": [
              "<Figure size 432x288 with 1 Axes>"
            ],
            "image/png": "[encoded data removed]"
          },
          "metadata": {
            "needs_background": "light"
          }
        }
      ],
      "source": [
        "plt.plot(train_losses, label=\"train\")\n",
        "plt.plot(val_losses, label=\"val\")\n",
        "plt.legend()"
      ]
    },
    {
      "cell_type": "code",
      "execution_count": null,
      "metadata": {
        "colab": {
          "base_uri": "https://localhost:8080/",
          "height": 222
        },
        "id": "IM6ZnIOaW3Jw",
        "outputId": "c879e18f-9ea9-4b53-b827-d8378f9f0e1c"
      },
      "outputs": [
        {
          "output_type": "error",
          "ename": "NameError",
          "evalue": "ignored",
          "traceback": [
            "\u001b[0;31m---------------------------------------------------------------------------\u001b[0m",
            "\u001b[0;31mNameError\u001b[0m                                 Traceback (most recent call last)",
            "\u001b[0;32m<ipython-input-1-2086c5003091>\u001b[0m in \u001b[0;36m<module>\u001b[0;34m\u001b[0m\n\u001b[0;32m----> 1\u001b[0;31m \u001b[0mbatch\u001b[0m \u001b[0;34m=\u001b[0m \u001b[0mbuild_batch\u001b[0m\u001b[0;34m(\u001b[0m\u001b[0;34m\"test\"\u001b[0m\u001b[0;34m,\u001b[0m \u001b[0mbatch_size\u001b[0m\u001b[0;34m=\u001b[0m\u001b[0;36m1\u001b[0m\u001b[0;34m)\u001b[0m\u001b[0;34m\u001b[0m\u001b[0;34m\u001b[0m\u001b[0m\n\u001b[0m\u001b[1;32m      2\u001b[0m \u001b[0mprint\u001b[0m\u001b[0;34m(\u001b[0m\u001b[0;34mf\"{src_language}: {src_lang.tensor_to_sentence(batch.src[0])}\"\u001b[0m\u001b[0;34m)\u001b[0m\u001b[0;34m\u001b[0m\u001b[0;34m\u001b[0m\u001b[0m\n\u001b[1;32m      3\u001b[0m \u001b[0mout\u001b[0m \u001b[0;34m=\u001b[0m \u001b[0mmt_transformer\u001b[0m\u001b[0;34m.\u001b[0m\u001b[0mgenerate\u001b[0m\u001b[0;34m(\u001b[0m\u001b[0mbatch\u001b[0m\u001b[0;34m.\u001b[0m\u001b[0msrc\u001b[0m\u001b[0;34m,\u001b[0m \u001b[0mbatch\u001b[0m\u001b[0;34m.\u001b[0m\u001b[0msrc_mask\u001b[0m\u001b[0;34m,\u001b[0m \u001b[0mmax_tokens\u001b[0m\u001b[0;34m=\u001b[0m\u001b[0;36m11\u001b[0m\u001b[0;34m)\u001b[0m\u001b[0;34m\u001b[0m\u001b[0;34m\u001b[0m\u001b[0m\n\u001b[1;32m      4\u001b[0m \u001b[0mprint\u001b[0m\u001b[0;34m(\u001b[0m\u001b[0;34mf\"{target_language}: {target_lang.tensor_to_sentence(out[0])}\"\u001b[0m\u001b[0;34m)\u001b[0m\u001b[0;34m\u001b[0m\u001b[0;34m\u001b[0m\u001b[0m\n",
            "\u001b[0;31mNameError\u001b[0m: name 'build_batch' is not defined"
          ]
        }
      ],
      "source": [
        "batch = build_batch(\"test\", batch_size=1)\n",
        "print(f\"{src_language}: {src_lang.tensor_to_sentence(batch.src[0])}\")\n",
        "out = mt_transformer.generate(batch.src, batch.src_mask, max_tokens=11)\n",
        "print(f\"{target_language}: {target_lang.tensor_to_sentence(out[0])}\")"
      ]
    }
  ],
  "metadata": {
    "kernelspec": {
      "display_name": "ml_mps_env",
      "language": "python",
      "name": "python3"
    },
    "language_info": {
      "codemirror_mode": {
        "name": "ipython",
        "version": 3
      },
      "file_extension": ".py",
      "mimetype": "text/x-python",
      "name": "python",
      "nbconvert_exporter": "python",
      "pygments_lexer": "ipython3",
      "version": "3.9.16 (main, Jan 11 2023, 10:02:19) \n[Clang 14.0.6 ]"
    },
    "orig_nbformat": 4,
    "vscode": {
      "interpreter": {
        "hash": "219301d06b24a901e45fde882757c1228fa788b1ab703da7f9c2352940fd5cfd"
      }
    },
    "colab": {
      "provenance": [],
      "include_colab_link": true
    },
    "accelerator": "GPU",
    "gpuClass": "standard"
  },
  "nbformat": 4,
  "nbformat_minor": 0
}